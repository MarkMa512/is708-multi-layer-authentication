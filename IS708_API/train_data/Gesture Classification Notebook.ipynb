{
 "cells": [
  {
   "cell_type": "markdown",
   "id": "86d53ac8",
   "metadata": {},
   "source": [
    "# Using RandomForestClassifier"
   ]
  },
  {
   "cell_type": "code",
   "execution_count": 52,
   "id": "3f302ef2",
   "metadata": {},
   "outputs": [],
   "source": [
    "import pandas as pd\n",
    "import numpy as np\n",
    "from sklearn.model_selection import train_test_split\n",
    "from sklearn.ensemble import RandomForestClassifier\n",
    "from sklearn.metrics import accuracy_score, confusion_matrix"
   ]
  },
  {
   "cell_type": "code",
   "execution_count": 53,
   "id": "654929ab",
   "metadata": {},
   "outputs": [],
   "source": [
    "gesture_folder_path = \"Gesture\" "
   ]
  },
  {
   "cell_type": "code",
   "execution_count": 54,
   "id": "df694d55",
   "metadata": {},
   "outputs": [
    {
     "data": {
      "text/html": [
       "<div>\n",
       "<style scoped>\n",
       "    .dataframe tbody tr th:only-of-type {\n",
       "        vertical-align: middle;\n",
       "    }\n",
       "\n",
       "    .dataframe tbody tr th {\n",
       "        vertical-align: top;\n",
       "    }\n",
       "\n",
       "    .dataframe thead th {\n",
       "        text-align: right;\n",
       "    }\n",
       "</style>\n",
       "<table border=\"1\" class=\"dataframe\">\n",
       "  <thead>\n",
       "    <tr style=\"text-align: right;\">\n",
       "      <th></th>\n",
       "      <th>Timestamp</th>\n",
       "      <th>AccelX</th>\n",
       "      <th>AccelY</th>\n",
       "      <th>AccelZ</th>\n",
       "      <th>GyroX</th>\n",
       "      <th>GyroY</th>\n",
       "      <th>GyroZ</th>\n",
       "      <th>Person</th>\n",
       "    </tr>\n",
       "  </thead>\n",
       "  <tbody>\n",
       "    <tr>\n",
       "      <th>2851</th>\n",
       "      <td>150826668708568</td>\n",
       "      <td>-0.280122</td>\n",
       "      <td>3.538630</td>\n",
       "      <td>8.052000</td>\n",
       "      <td>1.331534</td>\n",
       "      <td>-0.940274</td>\n",
       "      <td>0.085063</td>\n",
       "      <td>5</td>\n",
       "    </tr>\n",
       "    <tr>\n",
       "      <th>2852</th>\n",
       "      <td>150826670708368</td>\n",
       "      <td>-0.280122</td>\n",
       "      <td>3.538630</td>\n",
       "      <td>8.052000</td>\n",
       "      <td>1.331534</td>\n",
       "      <td>-0.940274</td>\n",
       "      <td>0.085063</td>\n",
       "      <td>5</td>\n",
       "    </tr>\n",
       "    <tr>\n",
       "      <th>2853</th>\n",
       "      <td>150826670708368</td>\n",
       "      <td>-0.280122</td>\n",
       "      <td>3.538630</td>\n",
       "      <td>8.052000</td>\n",
       "      <td>1.335810</td>\n",
       "      <td>-0.978148</td>\n",
       "      <td>0.085674</td>\n",
       "      <td>5</td>\n",
       "    </tr>\n",
       "    <tr>\n",
       "      <th>2854</th>\n",
       "      <td>150826672708168</td>\n",
       "      <td>-0.289698</td>\n",
       "      <td>3.550601</td>\n",
       "      <td>8.011298</td>\n",
       "      <td>1.335810</td>\n",
       "      <td>-0.978148</td>\n",
       "      <td>0.085674</td>\n",
       "      <td>5</td>\n",
       "    </tr>\n",
       "    <tr>\n",
       "      <th>2855</th>\n",
       "      <td>150826672708168</td>\n",
       "      <td>-0.289698</td>\n",
       "      <td>3.550601</td>\n",
       "      <td>8.011298</td>\n",
       "      <td>1.338864</td>\n",
       "      <td>-0.995863</td>\n",
       "      <td>0.082620</td>\n",
       "      <td>5</td>\n",
       "    </tr>\n",
       "  </tbody>\n",
       "</table>\n",
       "</div>"
      ],
      "text/plain": [
       "            Timestamp    AccelX    AccelY    AccelZ     GyroX     GyroY  \\\n",
       "2851  150826668708568 -0.280122  3.538630  8.052000  1.331534 -0.940274   \n",
       "2852  150826670708368 -0.280122  3.538630  8.052000  1.331534 -0.940274   \n",
       "2853  150826670708368 -0.280122  3.538630  8.052000  1.335810 -0.978148   \n",
       "2854  150826672708168 -0.289698  3.550601  8.011298  1.335810 -0.978148   \n",
       "2855  150826672708168 -0.289698  3.550601  8.011298  1.338864 -0.995863   \n",
       "\n",
       "         GyroZ  Person  \n",
       "2851  0.085063       5  \n",
       "2852  0.085063       5  \n",
       "2853  0.085674       5  \n",
       "2854  0.085674       5  \n",
       "2855  0.082620       5  "
      ]
     },
     "execution_count": 54,
     "metadata": {},
     "output_type": "execute_result"
    }
   ],
   "source": [
    "# Read CSV files into DataFrames and concatenate them into a single DataFrame\n",
    "def load_csv_to_df(file_path_str):\n",
    "    dfs = []\n",
    "    for label in range(1, 6):\n",
    "        folder_path = f\"{gesture_folder_path}/{label}\"\n",
    "        for file_name in os.listdir(folder_path):\n",
    "                if not file_name.startswith('.'): \n",
    "                    file_path = f\"{folder_path}/{file_name}\"\n",
    "                    df = pd.read_csv(file_path)\n",
    "                    df[\"Person\"] = label\n",
    "                    dfs.append(df)\n",
    "    df = pd.concat(dfs)\n",
    "    return df\n",
    "df.tail()"
   ]
  },
  {
   "cell_type": "code",
   "execution_count": 55,
   "id": "7758df36",
   "metadata": {},
   "outputs": [],
   "source": [
    "# Split data into features and labels\n",
    "X = df.drop([\"Person\", \"Timestamp\"], axis=1)  # Drop \"Person\" and \"Timestamp\" columns as features\n",
    "y = df[\"Person\"]  # Use \"Person\" column as labels"
   ]
  },
  {
   "cell_type": "code",
   "execution_count": 56,
   "id": "c8aeef32",
   "metadata": {},
   "outputs": [],
   "source": [
    "# Split data into training and testing sets\n",
    "X_train, X_test, y_train, y_test = train_test_split(X, y, test_size=0.2, random_state=42)"
   ]
  },
  {
   "cell_type": "code",
   "execution_count": 57,
   "id": "44491309",
   "metadata": {},
   "outputs": [
    {
     "data": {
      "text/plain": [
       "RandomForestClassifier(random_state=42)"
      ]
     },
     "execution_count": 57,
     "metadata": {},
     "output_type": "execute_result"
    }
   ],
   "source": [
    "# Initialize Random Forest Classifier\n",
    "clf = RandomForestClassifier(n_estimators=100, random_state=42)\n",
    "\n",
    "# Train the model\n",
    "clf.fit(X_train, y_train)"
   ]
  },
  {
   "cell_type": "code",
   "execution_count": 58,
   "id": "bad3108f",
   "metadata": {},
   "outputs": [
    {
     "name": "stdout",
     "output_type": "stream",
     "text": [
      "Accuracy: 0.9993321421453273\n",
      "Confusion Matrix:\n",
      " [[56606    34     0     3     7]\n",
      " [   75 56929     2     4     4]\n",
      " [    0     0 57555     4    15]\n",
      " [    0     0     4 57060    11]\n",
      " [   10     0     4    14 57648]]\n"
     ]
    }
   ],
   "source": [
    "# Predict on test data\n",
    "y_pred = clf.predict(X_test)\n",
    "\n",
    "# Calculate accuracy and confusion matrix\n",
    "accuracy = accuracy_score(y_test, y_pred)\n",
    "confusion_mat = confusion_matrix(y_test, y_pred)\n",
    "\n",
    "# Print accuracy and confusion matrix\n",
    "print(\"Accuracy:\", accuracy)\n",
    "print(\"Confusion Matrix:\\n\", confusion_mat)"
   ]
  },
  {
   "cell_type": "code",
   "execution_count": null,
   "id": "25c5235d",
   "metadata": {},
   "outputs": [],
   "source": [
    "def load_csv_to_df_knn(file_path_str):\n",
    "    X = []\n",
    "    y =[]\n",
    "    for label in range(1, 6):\n",
    "        folder_path = f\"{gesture_folder_path}/{label}\"\n",
    "        for file_name in os.listdir(folder_path):\n",
    "                if not file_name.startswith('.'): \n",
    "                    file_path = f\"{folder_path}/{file_name}\"\n",
    "                    df = pd.read_csv(file_path)\n",
    "                    X.append(df.drop(\"Timestamp\", axis=1))  # \"Timestamp\" is not a feature\n",
    "                    y.append(label)\n",
    "    return X, y"
   ]
  },
  {
   "cell_type": "code",
   "execution_count": null,
   "id": "961cec2f",
   "metadata": {},
   "outputs": [],
   "source": [
    "def load_csv_to_list(file_path_str):\n",
    "    X = []\n",
    "    y =[]\n",
    "    for label in range(1, 6):\n",
    "        folder_path = f\"{gesture_folder_path}/{label}\"\n",
    "        for file_name in os.listdir(folder_path):\n",
    "                if not file_name.startswith('.'): \n",
    "                    file_path = f\"{folder_path}/{file_name}\"\n",
    "                    df = pd.read_csv(file_path)\n",
    "                    X.append(df.drop([\"Timestamp\"], axis=1).values)  # \"Timestamp\" is not a feature\n",
    "                    y.append(label)\n",
    "    return X, y"
   ]
  }
 ],
 "metadata": {
  "kernelspec": {
   "display_name": "Python 3 (ipykernel)",
   "language": "python",
   "name": "python3"
  },
  "language_info": {
   "codemirror_mode": {
    "name": "ipython",
    "version": 3
   },
   "file_extension": ".py",
   "mimetype": "text/x-python",
   "name": "python",
   "nbconvert_exporter": "python",
   "pygments_lexer": "ipython3",
   "version": "3.9.12"
  }
 },
 "nbformat": 4,
 "nbformat_minor": 5
}
