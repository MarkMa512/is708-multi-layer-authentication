{
 "cells": [
  {
   "cell_type": "markdown",
   "id": "86d53ac8",
   "metadata": {},
   "source": [
    "# Gesture Classification using Random Forest Classifier (Integral)"
   ]
  },
  {
   "cell_type": "markdown",
   "id": "6cf4dc39",
   "metadata": {},
   "source": [
    "## Model Training"
   ]
  },
  {
   "cell_type": "code",
   "execution_count": 1,
   "id": "3f302ef2",
   "metadata": {},
   "outputs": [],
   "source": [
    "import pandas as pd\n",
    "import numpy as np\n",
    "import os\n",
    "from sklearn.model_selection import train_test_split\n",
    "from sklearn.ensemble import RandomForestClassifier\n",
    "from sklearn.metrics import accuracy_score, confusion_matrix, precision_score, recall_score, f1_score\n",
    "import pickle"
   ]
  },
  {
   "cell_type": "code",
   "execution_count": 2,
   "id": "df694d55",
   "metadata": {},
   "outputs": [],
   "source": [
    "# Define a function to load all the CSVs\n",
    "def load_csv_to_lists(gesture_folder_path:str)->list:\n",
    "    \n",
    "    \"\"\"\n",
    "    Load CSV files into List of DataFrams, calculate relative time for each reading\n",
    "    \n",
    "    Parameters:\n",
    "        - gesture_folder_path (str): Path to the folder containing subfolders correspond to each person (class) and each containing csv files.\n",
    "    \n",
    "    Returns:\n",
    "        - X(list): List of dataframe correspond to each reading csv \n",
    "        - y(list): List of label correspond to each dataframe \n",
    "    \"\"\"\n",
    "    \n",
    "    X = []\n",
    "    y = []\n",
    "    # for person 1 to 5: \n",
    "    for label in range(1, 6):\n",
    "        # generate path from subfolder 1 to 5, eg \"Gesture/1\"\n",
    "        folder_path = f\"{gesture_folder_path}/{label}\"\n",
    "        # for each csv file in the folder: \n",
    "        for file_name in os.listdir(folder_path):\n",
    "                # ignore .DS_Store file or other hidden file\n",
    "                if not file_name.startswith('.'): \n",
    "                    file_path = f\"{folder_path}/{file_name}\"\n",
    "                    df = pd.read_csv(file_path)\n",
    "                    # Calculate the relative time difference for each row of reading \n",
    "                    # compared to the 1st row of reading in each CSV file / reading \n",
    "                    # use it as a feature\n",
    "                    df['relative_time'] = df['Timestamp'].apply(lambda x: (x - df['Timestamp'][0]))\n",
    "                    df = df.drop([\"Timestamp\"], axis=1)  # Drop \"Timestamp\" columns as features as it is an absolute time\n",
    "                    X.append(df)\n",
    "                    y.append(label) \n",
    "                    \n",
    "    return X, y"
   ]
  },
  {
   "cell_type": "code",
   "execution_count": 3,
   "id": "9dd8a977",
   "metadata": {
    "scrolled": true
   },
   "outputs": [],
   "source": [
    "# Path to the folder containing the training data\n",
    "gesture_folder_path = \"Gesture\" \n",
    "\n",
    "# Load the data  \n",
    "X, y = load_csv_to_lists(gesture_folder_path)"
   ]
  },
  {
   "cell_type": "code",
   "execution_count": 4,
   "id": "5111de70",
   "metadata": {},
   "outputs": [
    {
     "data": {
      "text/plain": [
       "500"
      ]
     },
     "execution_count": 4,
     "metadata": {},
     "output_type": "execute_result"
    }
   ],
   "source": [
    "# Inspect X\n",
    "len(X)"
   ]
  },
  {
   "cell_type": "code",
   "execution_count": 5,
   "id": "9d4a9206",
   "metadata": {},
   "outputs": [
    {
     "data": {
      "text/html": [
       "<div>\n",
       "<style scoped>\n",
       "    .dataframe tbody tr th:only-of-type {\n",
       "        vertical-align: middle;\n",
       "    }\n",
       "\n",
       "    .dataframe tbody tr th {\n",
       "        vertical-align: top;\n",
       "    }\n",
       "\n",
       "    .dataframe thead th {\n",
       "        text-align: right;\n",
       "    }\n",
       "</style>\n",
       "<table border=\"1\" class=\"dataframe\">\n",
       "  <thead>\n",
       "    <tr style=\"text-align: right;\">\n",
       "      <th></th>\n",
       "      <th>AccelX</th>\n",
       "      <th>AccelY</th>\n",
       "      <th>AccelZ</th>\n",
       "      <th>GyroX</th>\n",
       "      <th>GyroY</th>\n",
       "      <th>GyroZ</th>\n",
       "      <th>relative_time</th>\n",
       "    </tr>\n",
       "  </thead>\n",
       "  <tbody>\n",
       "    <tr>\n",
       "      <th>0</th>\n",
       "      <td>4.419696</td>\n",
       "      <td>7.029675</td>\n",
       "      <td>5.210082</td>\n",
       "      <td>3.634725</td>\n",
       "      <td>-5.124854</td>\n",
       "      <td>-0.266185</td>\n",
       "      <td>0</td>\n",
       "    </tr>\n",
       "    <tr>\n",
       "      <th>1</th>\n",
       "      <td>4.419696</td>\n",
       "      <td>7.029675</td>\n",
       "      <td>5.210082</td>\n",
       "      <td>3.634725</td>\n",
       "      <td>-5.124854</td>\n",
       "      <td>-0.266185</td>\n",
       "      <td>2528035</td>\n",
       "    </tr>\n",
       "    <tr>\n",
       "      <th>2</th>\n",
       "      <td>4.419696</td>\n",
       "      <td>7.029675</td>\n",
       "      <td>5.210082</td>\n",
       "      <td>3.634725</td>\n",
       "      <td>-5.124854</td>\n",
       "      <td>-0.266185</td>\n",
       "      <td>4522535</td>\n",
       "    </tr>\n",
       "    <tr>\n",
       "      <th>3</th>\n",
       "      <td>4.419696</td>\n",
       "      <td>7.029675</td>\n",
       "      <td>5.210082</td>\n",
       "      <td>3.634725</td>\n",
       "      <td>-5.124854</td>\n",
       "      <td>-0.266185</td>\n",
       "      <td>6522868</td>\n",
       "    </tr>\n",
       "    <tr>\n",
       "      <th>4</th>\n",
       "      <td>4.419696</td>\n",
       "      <td>7.029675</td>\n",
       "      <td>5.210082</td>\n",
       "      <td>3.634725</td>\n",
       "      <td>-5.124854</td>\n",
       "      <td>-0.266185</td>\n",
       "      <td>8523118</td>\n",
       "    </tr>\n",
       "  </tbody>\n",
       "</table>\n",
       "</div>"
      ],
      "text/plain": [
       "     AccelX    AccelY    AccelZ     GyroX     GyroY     GyroZ  relative_time\n",
       "0  4.419696  7.029675  5.210082  3.634725 -5.124854 -0.266185              0\n",
       "1  4.419696  7.029675  5.210082  3.634725 -5.124854 -0.266185        2528035\n",
       "2  4.419696  7.029675  5.210082  3.634725 -5.124854 -0.266185        4522535\n",
       "3  4.419696  7.029675  5.210082  3.634725 -5.124854 -0.266185        6522868\n",
       "4  4.419696  7.029675  5.210082  3.634725 -5.124854 -0.266185        8523118"
      ]
     },
     "execution_count": 5,
     "metadata": {},
     "output_type": "execute_result"
    }
   ],
   "source": [
    "# Inspect the first element of X\n",
    "X[0].head()"
   ]
  },
  {
   "cell_type": "code",
   "execution_count": 6,
   "id": "b66c5ac7",
   "metadata": {},
   "outputs": [
    {
     "data": {
      "text/plain": [
       "2868"
      ]
     },
     "execution_count": 6,
     "metadata": {},
     "output_type": "execute_result"
    }
   ],
   "source": [
    "# Inspect the length of each dataframe\n",
    "len(X[0])"
   ]
  },
  {
   "cell_type": "code",
   "execution_count": 7,
   "id": "cfbbfb38",
   "metadata": {},
   "outputs": [
    {
     "data": {
      "text/plain": [
       "2842"
      ]
     },
     "execution_count": 7,
     "metadata": {},
     "output_type": "execute_result"
    }
   ],
   "source": [
    "len(X[1])"
   ]
  },
  {
   "cell_type": "code",
   "execution_count": 8,
   "id": "3183b725",
   "metadata": {},
   "outputs": [
    {
     "name": "stdout",
     "output_type": "stream",
     "text": [
      "2859.882\n"
     ]
    }
   ],
   "source": [
    "# Get the average length of each data frame in x \n",
    "total_length = sum(len(df) for df in X)\n",
    "average_length = total_length / len(X)\n",
    "\n",
    "print(average_length)"
   ]
  },
  {
   "cell_type": "code",
   "execution_count": 9,
   "id": "367d856c",
   "metadata": {},
   "outputs": [
    {
     "name": "stdout",
     "output_type": "stream",
     "text": [
      "2719\n"
     ]
    }
   ],
   "source": [
    "# Find the minimum length of the dataframe in the list\n",
    "min_length = min(len(df) for df in X)\n",
    "print(min_length)"
   ]
  },
  {
   "cell_type": "code",
   "execution_count": 10,
   "id": "cc225286",
   "metadata": {},
   "outputs": [
    {
     "data": {
      "text/plain": [
       "2700"
      ]
     },
     "execution_count": 10,
     "metadata": {},
     "output_type": "execute_result"
    }
   ],
   "source": [
    "# For each dataframe (reading) in the X, remove the first 10 reading, and keep 2700 reading\n",
    "standardized_X = [df.iloc[10:2710, :] for df in X]\n",
    "\n",
    "len(standardized_X[0])"
   ]
  },
  {
   "cell_type": "code",
   "execution_count": 11,
   "id": "a4b9adc0",
   "metadata": {},
   "outputs": [],
   "source": [
    "# Flatten the List \n",
    "flattened_X = [df.to_numpy().flatten().tolist() for df in standardized_X]"
   ]
  },
  {
   "cell_type": "code",
   "execution_count": 12,
   "id": "51bf2730",
   "metadata": {},
   "outputs": [
    {
     "data": {
      "text/plain": [
       "[5.3800707, 7.266701, 5.0329113, 3.6347246, -5.124854, -0.26618454, 20523962.0]"
      ]
     },
     "execution_count": 12,
     "metadata": {},
     "output_type": "execute_result"
    }
   ],
   "source": [
    "flattened_X[0][:7]"
   ]
  },
  {
   "cell_type": "code",
   "execution_count": 13,
   "id": "c8aeef32",
   "metadata": {},
   "outputs": [],
   "source": [
    "# Split data into training and testing sets (20% test, 80% train)\n",
    "X_train, X_test, y_train, y_test = train_test_split(flattened_X, y, test_size=0.2, random_state=42)"
   ]
  },
  {
   "cell_type": "code",
   "execution_count": 14,
   "id": "44491309",
   "metadata": {},
   "outputs": [
    {
     "data": {
      "text/html": [
       "<style>#sk-container-id-1 {color: black;background-color: white;}#sk-container-id-1 pre{padding: 0;}#sk-container-id-1 div.sk-toggleable {background-color: white;}#sk-container-id-1 label.sk-toggleable__label {cursor: pointer;display: block;width: 100%;margin-bottom: 0;padding: 0.3em;box-sizing: border-box;text-align: center;}#sk-container-id-1 label.sk-toggleable__label-arrow:before {content: \"▸\";float: left;margin-right: 0.25em;color: #696969;}#sk-container-id-1 label.sk-toggleable__label-arrow:hover:before {color: black;}#sk-container-id-1 div.sk-estimator:hover label.sk-toggleable__label-arrow:before {color: black;}#sk-container-id-1 div.sk-toggleable__content {max-height: 0;max-width: 0;overflow: hidden;text-align: left;background-color: #f0f8ff;}#sk-container-id-1 div.sk-toggleable__content pre {margin: 0.2em;color: black;border-radius: 0.25em;background-color: #f0f8ff;}#sk-container-id-1 input.sk-toggleable__control:checked~div.sk-toggleable__content {max-height: 200px;max-width: 100%;overflow: auto;}#sk-container-id-1 input.sk-toggleable__control:checked~label.sk-toggleable__label-arrow:before {content: \"▾\";}#sk-container-id-1 div.sk-estimator input.sk-toggleable__control:checked~label.sk-toggleable__label {background-color: #d4ebff;}#sk-container-id-1 div.sk-label input.sk-toggleable__control:checked~label.sk-toggleable__label {background-color: #d4ebff;}#sk-container-id-1 input.sk-hidden--visually {border: 0;clip: rect(1px 1px 1px 1px);clip: rect(1px, 1px, 1px, 1px);height: 1px;margin: -1px;overflow: hidden;padding: 0;position: absolute;width: 1px;}#sk-container-id-1 div.sk-estimator {font-family: monospace;background-color: #f0f8ff;border: 1px dotted black;border-radius: 0.25em;box-sizing: border-box;margin-bottom: 0.5em;}#sk-container-id-1 div.sk-estimator:hover {background-color: #d4ebff;}#sk-container-id-1 div.sk-parallel-item::after {content: \"\";width: 100%;border-bottom: 1px solid gray;flex-grow: 1;}#sk-container-id-1 div.sk-label:hover label.sk-toggleable__label {background-color: #d4ebff;}#sk-container-id-1 div.sk-serial::before {content: \"\";position: absolute;border-left: 1px solid gray;box-sizing: border-box;top: 0;bottom: 0;left: 50%;z-index: 0;}#sk-container-id-1 div.sk-serial {display: flex;flex-direction: column;align-items: center;background-color: white;padding-right: 0.2em;padding-left: 0.2em;position: relative;}#sk-container-id-1 div.sk-item {position: relative;z-index: 1;}#sk-container-id-1 div.sk-parallel {display: flex;align-items: stretch;justify-content: center;background-color: white;position: relative;}#sk-container-id-1 div.sk-item::before, #sk-container-id-1 div.sk-parallel-item::before {content: \"\";position: absolute;border-left: 1px solid gray;box-sizing: border-box;top: 0;bottom: 0;left: 50%;z-index: -1;}#sk-container-id-1 div.sk-parallel-item {display: flex;flex-direction: column;z-index: 1;position: relative;background-color: white;}#sk-container-id-1 div.sk-parallel-item:first-child::after {align-self: flex-end;width: 50%;}#sk-container-id-1 div.sk-parallel-item:last-child::after {align-self: flex-start;width: 50%;}#sk-container-id-1 div.sk-parallel-item:only-child::after {width: 0;}#sk-container-id-1 div.sk-dashed-wrapped {border: 1px dashed gray;margin: 0 0.4em 0.5em 0.4em;box-sizing: border-box;padding-bottom: 0.4em;background-color: white;}#sk-container-id-1 div.sk-label label {font-family: monospace;font-weight: bold;display: inline-block;line-height: 1.2em;}#sk-container-id-1 div.sk-label-container {text-align: center;}#sk-container-id-1 div.sk-container {/* jupyter's `normalize.less` sets `[hidden] { display: none; }` but bootstrap.min.css set `[hidden] { display: none !important; }` so we also need the `!important` here to be able to override the default hidden behavior on the sphinx rendered scikit-learn.org. See: https://github.com/scikit-learn/scikit-learn/issues/21755 */display: inline-block !important;position: relative;}#sk-container-id-1 div.sk-text-repr-fallback {display: none;}</style><div id=\"sk-container-id-1\" class=\"sk-top-container\"><div class=\"sk-text-repr-fallback\"><pre>RandomForestClassifier(random_state=42)</pre><b>In a Jupyter environment, please rerun this cell to show the HTML representation or trust the notebook. <br />On GitHub, the HTML representation is unable to render, please try loading this page with nbviewer.org.</b></div><div class=\"sk-container\" hidden><div class=\"sk-item\"><div class=\"sk-estimator sk-toggleable\"><input class=\"sk-toggleable__control sk-hidden--visually\" id=\"sk-estimator-id-1\" type=\"checkbox\" checked><label for=\"sk-estimator-id-1\" class=\"sk-toggleable__label sk-toggleable__label-arrow\">RandomForestClassifier</label><div class=\"sk-toggleable__content\"><pre>RandomForestClassifier(random_state=42)</pre></div></div></div></div></div>"
      ],
      "text/plain": [
       "RandomForestClassifier(random_state=42)"
      ]
     },
     "execution_count": 14,
     "metadata": {},
     "output_type": "execute_result"
    }
   ],
   "source": [
    "# Initialize Random Forest Classifier\n",
    "clf = RandomForestClassifier(n_estimators=100, random_state=42)\n",
    "\n",
    "# Train the model\n",
    "clf.fit(X_train, y_train)"
   ]
  },
  {
   "cell_type": "code",
   "execution_count": 15,
   "id": "b2215497",
   "metadata": {},
   "outputs": [],
   "source": [
    "# Predict on test data\n",
    "y_pred = clf.predict(X_test)"
   ]
  },
  {
   "cell_type": "markdown",
   "id": "b34edc5d",
   "metadata": {},
   "source": [
    "## Evaluate the Model"
   ]
  },
  {
   "cell_type": "markdown",
   "id": "e76d8bcb",
   "metadata": {},
   "source": [
    "### Confusion Matrix"
   ]
  },
  {
   "cell_type": "code",
   "execution_count": 16,
   "id": "296cddbb",
   "metadata": {},
   "outputs": [
    {
     "name": "stdout",
     "output_type": "stream",
     "text": [
      "Confusion Matrix:\n",
      " [[27  0  0  1  0]\n",
      " [ 0 14  0  0  0]\n",
      " [ 0  0 10  0  0]\n",
      " [ 0  0  0 24  0]\n",
      " [ 0  0  0  0 24]]\n"
     ]
    }
   ],
   "source": [
    "confusion_mat = confusion_matrix(y_test, y_pred)\n",
    "print(\"Confusion Matrix:\\n\", confusion_mat)"
   ]
  },
  {
   "cell_type": "markdown",
   "id": "8440e95e",
   "metadata": {},
   "source": [
    "### Accuracy"
   ]
  },
  {
   "cell_type": "code",
   "execution_count": 17,
   "id": "a3968325",
   "metadata": {},
   "outputs": [
    {
     "name": "stdout",
     "output_type": "stream",
     "text": [
      "Accuracy: 0.99\n"
     ]
    }
   ],
   "source": [
    "accuracy = accuracy_score(y_test, y_pred)\n",
    "print(\"Accuracy:\", accuracy)"
   ]
  },
  {
   "cell_type": "markdown",
   "id": "9bd4592d",
   "metadata": {},
   "source": [
    "### Precision"
   ]
  },
  {
   "cell_type": "code",
   "execution_count": 18,
   "id": "85e83b55",
   "metadata": {},
   "outputs": [
    {
     "name": "stdout",
     "output_type": "stream",
     "text": [
      "Precision (None): [1.   1.   1.   0.96 1.  ]\n",
      "Precision (macro): 0.992\n"
     ]
    }
   ],
   "source": [
    "precision_none = precision_score(y_test, y_pred, average=None)\n",
    "precision_macro = precision_score(y_test, y_pred, average='macro')\n",
    "print(\"Precision (None):\", precision_none)\n",
    "print(\"Precision (macro):\", precision_macro)"
   ]
  },
  {
   "cell_type": "markdown",
   "id": "002b4c12",
   "metadata": {},
   "source": [
    "### Recall"
   ]
  },
  {
   "cell_type": "code",
   "execution_count": 19,
   "id": "d60b9a1b",
   "metadata": {},
   "outputs": [
    {
     "name": "stdout",
     "output_type": "stream",
     "text": [
      "Recall (None): [0.96428571 1.         1.         1.         1.        ]\n",
      "Recall (macro): 0.9928571428571429\n"
     ]
    }
   ],
   "source": [
    "recall_none = recall_score(y_test, y_pred, average=None)\n",
    "recall_macro = recall_score(y_test, y_pred, average='macro')\n",
    "print(\"Recall (None):\", recall_none)\n",
    "print(\"Recall (macro):\", recall_macro)"
   ]
  },
  {
   "cell_type": "markdown",
   "id": "e4f92720",
   "metadata": {},
   "source": [
    "### F1 Score"
   ]
  },
  {
   "cell_type": "code",
   "execution_count": 20,
   "id": "e7d7afdb",
   "metadata": {},
   "outputs": [
    {
     "name": "stdout",
     "output_type": "stream",
     "text": [
      "F1 Score (None): [0.98181818 1.         1.         0.97959184 1.        ]\n",
      "F1 Score (macro): 0.9922820037105751\n"
     ]
    }
   ],
   "source": [
    "f1_none = f1_score(y_test, y_pred, average=None)\n",
    "f1_macro= f1_score(y_test, y_pred, average=\"macro\")\n",
    "print(\"F1 Score (None):\", f1_none)\n",
    "print(\"F1 Score (macro):\", f1_macro)"
   ]
  },
  {
   "cell_type": "markdown",
   "id": "a8e0d986",
   "metadata": {},
   "source": [
    "## Prediction Function"
   ]
  },
  {
   "cell_type": "code",
   "execution_count": 21,
   "id": "e20e1d9b",
   "metadata": {},
   "outputs": [],
   "source": [
    "def predict_new_gesture(csv_file_path: str, clf: object) -> int:\n",
    "    \n",
    "    \"\"\"\n",
    "    Read a CSV file of IMU sensor reading and predict the label for each line of reading using trained model clf\n",
    "    \n",
    "    Parameters:\n",
    "        - csv_file_path (str): Path to the CSV contraining IMU sensor reading\n",
    "    \n",
    "    Returns:\n",
    "        - result (int): predicted user\n",
    "    \"\"\"\n",
    "    input_list = []\n",
    "    df = pd.read_csv(csv_file_path)\n",
    "    # Calculate the relative time difference for each row of reading\n",
    "    # compared to the 1st row of reading in each CSV file / reading\n",
    "    df['relative_time'] = df['Timestamp'].apply(\n",
    "        lambda x: (x - df['Timestamp'][0]))\n",
    "    df = df.drop([\"Timestamp\"], axis=1)  # Drop \"Timestamp\" columns as features\n",
    "    df = df.iloc[10:2710, :] # standardize the length of the dataframe \n",
    "    flattened_list = df.to_numpy().flatten().tolist()\n",
    "    input_list.append(flattened_list)\n",
    "    \n",
    "    result_list = clf.predict(input_list)\n",
    "    return result_list[0]"
   ]
  },
  {
   "cell_type": "markdown",
   "id": "d3b914de",
   "metadata": {},
   "source": [
    "## Test Cases"
   ]
  },
  {
   "cell_type": "code",
   "execution_count": 22,
   "id": "4fddc596",
   "metadata": {},
   "outputs": [
    {
     "name": "stdout",
     "output_type": "stream",
     "text": [
      "2\n"
     ]
    }
   ],
   "source": [
    "# Expected output: 2\n",
    "print(predict_new_gesture(\"Gesture/2/1677688805233.csv\", clf))"
   ]
  },
  {
   "cell_type": "code",
   "execution_count": 23,
   "id": "93aaa6ce",
   "metadata": {},
   "outputs": [
    {
     "name": "stdout",
     "output_type": "stream",
     "text": [
      "3\n"
     ]
    }
   ],
   "source": [
    "# Expected output: 3\n",
    "print(predict_new_gesture(\"Gesture/3/1677689464170.csv\", clf))"
   ]
  },
  {
   "cell_type": "code",
   "execution_count": 24,
   "id": "f58e137b",
   "metadata": {},
   "outputs": [
    {
     "name": "stdout",
     "output_type": "stream",
     "text": [
      "5\n"
     ]
    }
   ],
   "source": [
    "# Expected output: 5\n",
    "print(predict_new_gesture(\"Gesture/5/1678081679872.csv\", clf))"
   ]
  },
  {
   "cell_type": "markdown",
   "id": "70d697a6",
   "metadata": {},
   "source": [
    "## Export the Model"
   ]
  },
  {
   "cell_type": "code",
   "execution_count": 25,
   "id": "2988ae1a",
   "metadata": {},
   "outputs": [],
   "source": [
    "# Save the trained model to a file\n",
    "filename = 'gesture_random_forest_classifier_model_integral.pkl'\n",
    "with open(filename, 'wb') as file:\n",
    "    pickle.dump(clf, file)"
   ]
  },
  {
   "cell_type": "code",
   "execution_count": 26,
   "id": "dadef433",
   "metadata": {},
   "outputs": [],
   "source": [
    "# Load the trained model from the file\n",
    "filename = 'gesture_random_forest_classifier_model_integral.pkl'\n",
    "with open(filename, 'rb') as file:\n",
    "    clf = pickle.load(file)"
   ]
  },
  {
   "cell_type": "code",
   "execution_count": null,
   "id": "95135cf1",
   "metadata": {},
   "outputs": [],
   "source": []
  }
 ],
 "metadata": {
  "kernelspec": {
   "display_name": "Python 3 (ipykernel)",
   "language": "python",
   "name": "python3"
  },
  "language_info": {
   "codemirror_mode": {
    "name": "ipython",
    "version": 3
   },
   "file_extension": ".py",
   "mimetype": "text/x-python",
   "name": "python",
   "nbconvert_exporter": "python",
   "pygments_lexer": "ipython3",
   "version": "3.9.12"
  }
 },
 "nbformat": 4,
 "nbformat_minor": 5
}
