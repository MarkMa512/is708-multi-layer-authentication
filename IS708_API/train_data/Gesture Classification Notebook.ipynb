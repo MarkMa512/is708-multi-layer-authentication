{
 "cells": [
  {
   "cell_type": "markdown",
   "id": "86d53ac8",
   "metadata": {},
   "source": [
    "# Using RandomForestClassifier"
   ]
  },
  {
   "cell_type": "code",
   "execution_count": 9,
   "id": "3f302ef2",
   "metadata": {},
   "outputs": [],
   "source": [
    "import pandas as pd\n",
    "import numpy as np\n",
    "import os\n",
    "from sklearn.model_selection import train_test_split\n",
    "from sklearn.ensemble import RandomForestClassifier\n",
    "from sklearn.metrics import accuracy_score, confusion_matrix\n",
    "import pickle"
   ]
  },
  {
   "cell_type": "code",
   "execution_count": 15,
   "id": "654929ab",
   "metadata": {},
   "outputs": [],
   "source": [
    "gesture_folder_path = \"Gesture\" "
   ]
  },
  {
   "cell_type": "code",
   "execution_count": 16,
   "id": "df694d55",
   "metadata": {},
   "outputs": [],
   "source": [
    "# Read CSV files into DataFrames and concatenate them into a single DataFrame\n",
    "def load_csv_to_df(file_path_str):\n",
    "    dfs = []\n",
    "    for label in range(1, 6):\n",
    "        folder_path = f\"{gesture_folder_path}/{label}\"\n",
    "        for file_name in os.listdir(folder_path):\n",
    "                if not file_name.startswith('.'): \n",
    "                    file_path = f\"{folder_path}/{file_name}\"\n",
    "                    df = pd.read_csv(file_path)\n",
    "                    df[\"Person\"] = label\n",
    "                    df['relative_time'] = df['Timestamp'].apply(lambda x: (x - df['Timestamp'][0]))\n",
    "                    dfs.append(df)\n",
    "    df = pd.concat(dfs)\n",
    "    return df"
   ]
  },
  {
   "cell_type": "code",
   "execution_count": 17,
   "id": "9dd8a977",
   "metadata": {},
   "outputs": [
    {
     "data": {
      "text/html": [
       "<div>\n",
       "<style scoped>\n",
       "    .dataframe tbody tr th:only-of-type {\n",
       "        vertical-align: middle;\n",
       "    }\n",
       "\n",
       "    .dataframe tbody tr th {\n",
       "        vertical-align: top;\n",
       "    }\n",
       "\n",
       "    .dataframe thead th {\n",
       "        text-align: right;\n",
       "    }\n",
       "</style>\n",
       "<table border=\"1\" class=\"dataframe\">\n",
       "  <thead>\n",
       "    <tr style=\"text-align: right;\">\n",
       "      <th></th>\n",
       "      <th>Timestamp</th>\n",
       "      <th>AccelX</th>\n",
       "      <th>AccelY</th>\n",
       "      <th>AccelZ</th>\n",
       "      <th>GyroX</th>\n",
       "      <th>GyroY</th>\n",
       "      <th>GyroZ</th>\n",
       "      <th>Person</th>\n",
       "      <th>relative_time</th>\n",
       "    </tr>\n",
       "  </thead>\n",
       "  <tbody>\n",
       "    <tr>\n",
       "      <th>2851</th>\n",
       "      <td>150826668708568</td>\n",
       "      <td>-0.280122</td>\n",
       "      <td>3.538630</td>\n",
       "      <td>8.052000</td>\n",
       "      <td>1.331534</td>\n",
       "      <td>-0.940274</td>\n",
       "      <td>0.085063</td>\n",
       "      <td>5</td>\n",
       "      <td>2980211645</td>\n",
       "    </tr>\n",
       "    <tr>\n",
       "      <th>2852</th>\n",
       "      <td>150826670708368</td>\n",
       "      <td>-0.280122</td>\n",
       "      <td>3.538630</td>\n",
       "      <td>8.052000</td>\n",
       "      <td>1.331534</td>\n",
       "      <td>-0.940274</td>\n",
       "      <td>0.085063</td>\n",
       "      <td>5</td>\n",
       "      <td>2982211445</td>\n",
       "    </tr>\n",
       "    <tr>\n",
       "      <th>2853</th>\n",
       "      <td>150826670708368</td>\n",
       "      <td>-0.280122</td>\n",
       "      <td>3.538630</td>\n",
       "      <td>8.052000</td>\n",
       "      <td>1.335810</td>\n",
       "      <td>-0.978148</td>\n",
       "      <td>0.085674</td>\n",
       "      <td>5</td>\n",
       "      <td>2982211445</td>\n",
       "    </tr>\n",
       "    <tr>\n",
       "      <th>2854</th>\n",
       "      <td>150826672708168</td>\n",
       "      <td>-0.289698</td>\n",
       "      <td>3.550601</td>\n",
       "      <td>8.011298</td>\n",
       "      <td>1.335810</td>\n",
       "      <td>-0.978148</td>\n",
       "      <td>0.085674</td>\n",
       "      <td>5</td>\n",
       "      <td>2984211245</td>\n",
       "    </tr>\n",
       "    <tr>\n",
       "      <th>2855</th>\n",
       "      <td>150826672708168</td>\n",
       "      <td>-0.289698</td>\n",
       "      <td>3.550601</td>\n",
       "      <td>8.011298</td>\n",
       "      <td>1.338864</td>\n",
       "      <td>-0.995863</td>\n",
       "      <td>0.082620</td>\n",
       "      <td>5</td>\n",
       "      <td>2984211245</td>\n",
       "    </tr>\n",
       "  </tbody>\n",
       "</table>\n",
       "</div>"
      ],
      "text/plain": [
       "            Timestamp    AccelX    AccelY    AccelZ     GyroX     GyroY  \\\n",
       "2851  150826668708568 -0.280122  3.538630  8.052000  1.331534 -0.940274   \n",
       "2852  150826670708368 -0.280122  3.538630  8.052000  1.331534 -0.940274   \n",
       "2853  150826670708368 -0.280122  3.538630  8.052000  1.335810 -0.978148   \n",
       "2854  150826672708168 -0.289698  3.550601  8.011298  1.335810 -0.978148   \n",
       "2855  150826672708168 -0.289698  3.550601  8.011298  1.338864 -0.995863   \n",
       "\n",
       "         GyroZ  Person  relative_time  \n",
       "2851  0.085063       5     2980211645  \n",
       "2852  0.085063       5     2982211445  \n",
       "2853  0.085674       5     2982211445  \n",
       "2854  0.085674       5     2984211245  \n",
       "2855  0.082620       5     2984211245  "
      ]
     },
     "execution_count": 17,
     "metadata": {},
     "output_type": "execute_result"
    }
   ],
   "source": [
    "df = load_csv_to_df(gesture_folder_path)\n",
    "df.tail()"
   ]
  },
  {
   "cell_type": "code",
   "execution_count": 18,
   "id": "f5c4ee0c",
   "metadata": {},
   "outputs": [
    {
     "data": {
      "text/html": [
       "<div>\n",
       "<style scoped>\n",
       "    .dataframe tbody tr th:only-of-type {\n",
       "        vertical-align: middle;\n",
       "    }\n",
       "\n",
       "    .dataframe tbody tr th {\n",
       "        vertical-align: top;\n",
       "    }\n",
       "\n",
       "    .dataframe thead th {\n",
       "        text-align: right;\n",
       "    }\n",
       "</style>\n",
       "<table border=\"1\" class=\"dataframe\">\n",
       "  <thead>\n",
       "    <tr style=\"text-align: right;\">\n",
       "      <th></th>\n",
       "      <th>Timestamp</th>\n",
       "      <th>AccelX</th>\n",
       "      <th>AccelY</th>\n",
       "      <th>AccelZ</th>\n",
       "      <th>GyroX</th>\n",
       "      <th>GyroY</th>\n",
       "      <th>GyroZ</th>\n",
       "      <th>Person</th>\n",
       "      <th>relative_time</th>\n",
       "    </tr>\n",
       "  </thead>\n",
       "  <tbody>\n",
       "    <tr>\n",
       "      <th>0</th>\n",
       "      <td>30779640458668</td>\n",
       "      <td>4.419696</td>\n",
       "      <td>7.029675</td>\n",
       "      <td>5.210082</td>\n",
       "      <td>3.634725</td>\n",
       "      <td>-5.124854</td>\n",
       "      <td>-0.266185</td>\n",
       "      <td>1</td>\n",
       "      <td>0</td>\n",
       "    </tr>\n",
       "    <tr>\n",
       "      <th>1</th>\n",
       "      <td>30779642986703</td>\n",
       "      <td>4.419696</td>\n",
       "      <td>7.029675</td>\n",
       "      <td>5.210082</td>\n",
       "      <td>3.634725</td>\n",
       "      <td>-5.124854</td>\n",
       "      <td>-0.266185</td>\n",
       "      <td>1</td>\n",
       "      <td>2528035</td>\n",
       "    </tr>\n",
       "    <tr>\n",
       "      <th>2</th>\n",
       "      <td>30779644981203</td>\n",
       "      <td>4.419696</td>\n",
       "      <td>7.029675</td>\n",
       "      <td>5.210082</td>\n",
       "      <td>3.634725</td>\n",
       "      <td>-5.124854</td>\n",
       "      <td>-0.266185</td>\n",
       "      <td>1</td>\n",
       "      <td>4522535</td>\n",
       "    </tr>\n",
       "    <tr>\n",
       "      <th>3</th>\n",
       "      <td>30779646981536</td>\n",
       "      <td>4.419696</td>\n",
       "      <td>7.029675</td>\n",
       "      <td>5.210082</td>\n",
       "      <td>3.634725</td>\n",
       "      <td>-5.124854</td>\n",
       "      <td>-0.266185</td>\n",
       "      <td>1</td>\n",
       "      <td>6522868</td>\n",
       "    </tr>\n",
       "    <tr>\n",
       "      <th>4</th>\n",
       "      <td>30779648981786</td>\n",
       "      <td>4.419696</td>\n",
       "      <td>7.029675</td>\n",
       "      <td>5.210082</td>\n",
       "      <td>3.634725</td>\n",
       "      <td>-5.124854</td>\n",
       "      <td>-0.266185</td>\n",
       "      <td>1</td>\n",
       "      <td>8523118</td>\n",
       "    </tr>\n",
       "  </tbody>\n",
       "</table>\n",
       "</div>"
      ],
      "text/plain": [
       "        Timestamp    AccelX    AccelY    AccelZ     GyroX     GyroY     GyroZ  \\\n",
       "0  30779640458668  4.419696  7.029675  5.210082  3.634725 -5.124854 -0.266185   \n",
       "1  30779642986703  4.419696  7.029675  5.210082  3.634725 -5.124854 -0.266185   \n",
       "2  30779644981203  4.419696  7.029675  5.210082  3.634725 -5.124854 -0.266185   \n",
       "3  30779646981536  4.419696  7.029675  5.210082  3.634725 -5.124854 -0.266185   \n",
       "4  30779648981786  4.419696  7.029675  5.210082  3.634725 -5.124854 -0.266185   \n",
       "\n",
       "   Person  relative_time  \n",
       "0       1              0  \n",
       "1       1        2528035  \n",
       "2       1        4522535  \n",
       "3       1        6522868  \n",
       "4       1        8523118  "
      ]
     },
     "execution_count": 18,
     "metadata": {},
     "output_type": "execute_result"
    }
   ],
   "source": [
    "df.head()"
   ]
  },
  {
   "cell_type": "code",
   "execution_count": 19,
   "id": "7758df36",
   "metadata": {},
   "outputs": [],
   "source": [
    "# Split data into features and labels\n",
    "X = df.drop([\"Person\", \"Timestamp\"], axis=1)  # Drop \"Person\" and \"Timestamp\" columns as features\n",
    "y = df[\"Person\"]  # Use \"Person\" column as labels"
   ]
  },
  {
   "cell_type": "code",
   "execution_count": 26,
   "id": "88de14c9",
   "metadata": {},
   "outputs": [
    {
     "data": {
      "text/html": [
       "<div>\n",
       "<style scoped>\n",
       "    .dataframe tbody tr th:only-of-type {\n",
       "        vertical-align: middle;\n",
       "    }\n",
       "\n",
       "    .dataframe tbody tr th {\n",
       "        vertical-align: top;\n",
       "    }\n",
       "\n",
       "    .dataframe thead th {\n",
       "        text-align: right;\n",
       "    }\n",
       "</style>\n",
       "<table border=\"1\" class=\"dataframe\">\n",
       "  <thead>\n",
       "    <tr style=\"text-align: right;\">\n",
       "      <th></th>\n",
       "      <th>AccelX</th>\n",
       "      <th>AccelY</th>\n",
       "      <th>AccelZ</th>\n",
       "      <th>GyroX</th>\n",
       "      <th>GyroY</th>\n",
       "      <th>GyroZ</th>\n",
       "      <th>relative_time</th>\n",
       "    </tr>\n",
       "  </thead>\n",
       "  <tbody>\n",
       "    <tr>\n",
       "      <th>0</th>\n",
       "      <td>4.419696</td>\n",
       "      <td>7.029675</td>\n",
       "      <td>5.210082</td>\n",
       "      <td>3.634725</td>\n",
       "      <td>-5.124854</td>\n",
       "      <td>-0.266185</td>\n",
       "      <td>0</td>\n",
       "    </tr>\n",
       "    <tr>\n",
       "      <th>1</th>\n",
       "      <td>4.419696</td>\n",
       "      <td>7.029675</td>\n",
       "      <td>5.210082</td>\n",
       "      <td>3.634725</td>\n",
       "      <td>-5.124854</td>\n",
       "      <td>-0.266185</td>\n",
       "      <td>2528035</td>\n",
       "    </tr>\n",
       "    <tr>\n",
       "      <th>2</th>\n",
       "      <td>4.419696</td>\n",
       "      <td>7.029675</td>\n",
       "      <td>5.210082</td>\n",
       "      <td>3.634725</td>\n",
       "      <td>-5.124854</td>\n",
       "      <td>-0.266185</td>\n",
       "      <td>4522535</td>\n",
       "    </tr>\n",
       "    <tr>\n",
       "      <th>3</th>\n",
       "      <td>4.419696</td>\n",
       "      <td>7.029675</td>\n",
       "      <td>5.210082</td>\n",
       "      <td>3.634725</td>\n",
       "      <td>-5.124854</td>\n",
       "      <td>-0.266185</td>\n",
       "      <td>6522868</td>\n",
       "    </tr>\n",
       "    <tr>\n",
       "      <th>4</th>\n",
       "      <td>4.419696</td>\n",
       "      <td>7.029675</td>\n",
       "      <td>5.210082</td>\n",
       "      <td>3.634725</td>\n",
       "      <td>-5.124854</td>\n",
       "      <td>-0.266185</td>\n",
       "      <td>8523118</td>\n",
       "    </tr>\n",
       "  </tbody>\n",
       "</table>\n",
       "</div>"
      ],
      "text/plain": [
       "     AccelX    AccelY    AccelZ     GyroX     GyroY     GyroZ  relative_time\n",
       "0  4.419696  7.029675  5.210082  3.634725 -5.124854 -0.266185              0\n",
       "1  4.419696  7.029675  5.210082  3.634725 -5.124854 -0.266185        2528035\n",
       "2  4.419696  7.029675  5.210082  3.634725 -5.124854 -0.266185        4522535\n",
       "3  4.419696  7.029675  5.210082  3.634725 -5.124854 -0.266185        6522868\n",
       "4  4.419696  7.029675  5.210082  3.634725 -5.124854 -0.266185        8523118"
      ]
     },
     "execution_count": 26,
     "metadata": {},
     "output_type": "execute_result"
    }
   ],
   "source": [
    "X.head()"
   ]
  },
  {
   "cell_type": "code",
   "execution_count": 27,
   "id": "9cd5a206",
   "metadata": {},
   "outputs": [
    {
     "data": {
      "text/plain": [
       "0    1\n",
       "1    1\n",
       "2    1\n",
       "3    1\n",
       "4    1\n",
       "Name: Person, dtype: int64"
      ]
     },
     "execution_count": 27,
     "metadata": {},
     "output_type": "execute_result"
    }
   ],
   "source": [
    "y.head()"
   ]
  },
  {
   "cell_type": "code",
   "execution_count": 20,
   "id": "c8aeef32",
   "metadata": {},
   "outputs": [],
   "source": [
    "# Split data into training and testing sets\n",
    "X_train, X_test, y_train, y_test = train_test_split(X, y, test_size=0.2, random_state=42)"
   ]
  },
  {
   "cell_type": "code",
   "execution_count": 21,
   "id": "44491309",
   "metadata": {},
   "outputs": [
    {
     "data": {
      "text/plain": [
       "RandomForestClassifier(random_state=42)"
      ]
     },
     "execution_count": 21,
     "metadata": {},
     "output_type": "execute_result"
    }
   ],
   "source": [
    "# Initialize Random Forest Classifier\n",
    "clf = RandomForestClassifier(n_estimators=100, random_state=42)\n",
    "\n",
    "# Train the model\n",
    "clf.fit(X_train, y_train)"
   ]
  },
  {
   "cell_type": "code",
   "execution_count": 22,
   "id": "bad3108f",
   "metadata": {},
   "outputs": [
    {
     "name": "stdout",
     "output_type": "stream",
     "text": [
      "Accuracy: 0.9998041882729756\n",
      "Confusion Matrix:\n",
      " [[56635    14     0     0     1]\n",
      " [   28 56986     0     0     0]\n",
      " [    0     0 57568     3     3]\n",
      " [    0     0     0 57074     1]\n",
      " [    5     0     0     1 57670]]\n"
     ]
    }
   ],
   "source": [
    "# Predict on test data\n",
    "y_pred = clf.predict(X_test)\n",
    "\n",
    "# Calculate accuracy and confusion matrix\n",
    "accuracy = accuracy_score(y_test, y_pred)\n",
    "confusion_mat = confusion_matrix(y_test, y_pred)\n",
    "\n",
    "# Print accuracy and confusion matrix\n",
    "print(\"Accuracy:\", accuracy)\n",
    "print(\"Confusion Matrix:\\n\", confusion_mat)"
   ]
  },
  {
   "cell_type": "code",
   "execution_count": 25,
   "id": "e20e1d9b",
   "metadata": {},
   "outputs": [
    {
     "name": "stdout",
     "output_type": "stream",
     "text": [
      "[1 1]\n"
     ]
    },
    {
     "name": "stderr",
     "output_type": "stream",
     "text": [
      "/Users/user/opt/anaconda3/lib/python3.9/site-packages/sklearn/base.py:450: UserWarning: X does not have valid feature names, but RandomForestClassifier was fitted with feature names\n",
      "  warnings.warn(\n"
     ]
    }
   ],
   "source": [
    "new_reading = np.array([\n",
    "#     [\"AccelX\",\"AccelY\",\"AccelZ\",\"GyroX\",\"GyroY\",\"GyroZ\"],\n",
    "    [1.7597382,6.4095774,7.951443,0.0092393365,-0.005421429,-0.016417004, 0],\n",
    "    [1.7597382,6.4095774,7.951443,0.0092393365,-0.005421429,-0.016417004, 2528035]\n",
    "    ])\n",
    "\n",
    "def predict_new_reading(new_reading, clf):\n",
    "    return clf.predict(new_reading)\n",
    "\n",
    "print(predict_new_reading(new_reading, clf))"
   ]
  },
  {
   "cell_type": "code",
   "execution_count": 28,
   "id": "2988ae1a",
   "metadata": {},
   "outputs": [],
   "source": [
    "# Save the trained model to a file\n",
    "filename = 'gesture_random_forest_classifier_model_relative_time.pkl'\n",
    "with open(filename, 'wb') as file:\n",
    "    pickle.dump(clf, file)"
   ]
  },
  {
   "cell_type": "code",
   "execution_count": 3,
   "id": "dadef433",
   "metadata": {},
   "outputs": [],
   "source": [
    "# Load the trained model from the file\n",
    "filename = 'gesture_random_forest_classifier_model.pkl'\n",
    "with open(filename, 'rb') as file:\n",
    "    clf = pickle.load(file)"
   ]
  },
  {
   "cell_type": "code",
   "execution_count": null,
   "id": "25c5235d",
   "metadata": {},
   "outputs": [],
   "source": [
    "def load_csv_to_df_knn(file_path_str):\n",
    "    X = []\n",
    "    y =[]\n",
    "    for label in range(1, 6):\n",
    "        folder_path = f\"{gesture_folder_path}/{label}\"\n",
    "        for file_name in os.listdir(folder_path):\n",
    "                if not file_name.startswith('.'): \n",
    "                    file_path = f\"{folder_path}/{file_name}\"\n",
    "                    df = pd.read_csv(file_path)\n",
    "                    X.append(df.drop(\"Timestamp\", axis=1))  # \"Timestamp\" is not a feature\n",
    "                    y.append(label)\n",
    "    return X, y"
   ]
  },
  {
   "cell_type": "code",
   "execution_count": null,
   "id": "961cec2f",
   "metadata": {},
   "outputs": [],
   "source": [
    "def load_csv_to_list(file_path_str):\n",
    "    X = []\n",
    "    y =[]\n",
    "    for label in range(1, 6):\n",
    "        folder_path = f\"{gesture_folder_path}/{label}\"\n",
    "        for file_name in os.listdir(folder_path):\n",
    "                if not file_name.startswith('.'): \n",
    "                    file_path = f\"{folder_path}/{file_name}\"\n",
    "                    df = pd.read_csv(file_path)\n",
    "                    X.append(df.drop([\"Timestamp\"], axis=1).values)  # \"Timestamp\" is not a feature\n",
    "                    y.append(label)\n",
    "    return X, y"
   ]
  }
 ],
 "metadata": {
  "kernelspec": {
   "display_name": "Python 3 (ipykernel)",
   "language": "python",
   "name": "python3"
  },
  "language_info": {
   "codemirror_mode": {
    "name": "ipython",
    "version": 3
   },
   "file_extension": ".py",
   "mimetype": "text/x-python",
   "name": "python",
   "nbconvert_exporter": "python",
   "pygments_lexer": "ipython3",
   "version": "3.9.12"
  }
 },
 "nbformat": 4,
 "nbformat_minor": 5
}
