{
 "cells": [
  {
   "cell_type": "code",
   "execution_count": 11,
   "id": "3f8e85fa",
   "metadata": {},
   "outputs": [],
   "source": [
    "# Import Relevant libraries\n",
    "import librosa\n",
    "import os\n",
    "\n",
    "from sklearn.model_selection import train_test_split\n",
    "from sklearn.svm import SVC\n",
    "from sklearn.metrics import accuracy_score\n",
    "\n",
    "from sklearn.preprocessing import StandardScaler\n",
    "\n",
    "from tensorflow.keras.preprocessing.sequence import pad_sequences"
   ]
  },
  {
   "cell_type": "code",
   "execution_count": 12,
   "id": "389474fa",
   "metadata": {},
   "outputs": [],
   "source": [
    "# Define a function to load audio clips and extract features\n",
    "def load_and_extract_features(audio_folder_path, n_mfcc=20):\n",
    "    \"\"\"\n",
    "    Load audio clips from a folder and extract MFCC features.\n",
    "    \n",
    "    Parameters:\n",
    "        - audio_folder_path (str): Path to the folder containing the audio clips.\n",
    "        - n_mfcc (int): Number of Mel-frequency cepstral coefficients (MFCC) to extract.\n",
    "    \n",
    "    Returns:\n",
    "        - X (list): Extracted features (shape: [[n_samples, n_mfcc]]).\n",
    "        - y (list): Labels corresponding to the audio clips (shape: [n_samples,]).\n",
    "    \"\"\"\n",
    "    X = []\n",
    "    y = []\n",
    "    for label in range(1, 6):\n",
    "        folder_path = f\"{audio_folder_path}/{label}\"\n",
    "        for file_name in os.listdir(folder_path):\n",
    "            if not file_name.startswith('.'): \n",
    "                file_path = f\"{folder_path}/{file_name}\"\n",
    "                # print (file_path)\n",
    "                # Load audio clip\n",
    "                signal, sr = librosa.load(file_path, duration=3.0)  # Set duration to 3 seconds\n",
    "                # Extract MFCC features\n",
    "                mfcc = librosa.feature.mfcc(y=signal, sr=sr, n_mfcc=n_mfcc)\n",
    "                # Flatten the list\n",
    "                mfcc_flattened=mfcc.T.flatten().tolist()\n",
    "                # print(len(mfcc_flattened))\n",
    "                # Append features and label to X and y\n",
    "                X.append(mfcc_flattened)\n",
    "                y.append(label)\n",
    "\n",
    "    return X, y\n",
    "\n",
    "# Call the function to load and extract features from audio clips\n",
    "audio_folder_path = \"Audio\"  # Path to the folder containing the audio clips\n",
    "X, y = load_and_extract_features(audio_folder_path)"
   ]
  },
  {
   "cell_type": "code",
   "execution_count": 13,
   "id": "4ca23065",
   "metadata": {},
   "outputs": [],
   "source": [
    "# Split the data into training and testing sets\n",
    "X_train, X_test, y_train, y_test = train_test_split(X, y, test_size=0.2, random_state=42)\n",
    "\n",
    "# Initialize an SVM classifier\n",
    "svm = SVC(kernel='linear')\n",
    "\n",
    "\n",
    "# Pad or truncate MFCC features to a consistent length\n",
    "X_train = pad_sequences(X_train, maxlen=1500, dtype='float32', padding='post', truncating='post')\n",
    "X_test = pad_sequences(X_test, maxlen=1500, dtype='float32', padding='post', truncating='post')\n",
    "\n",
    "# Standardize the data for improved accuracy\n",
    "scaler = StandardScaler()\n",
    "X_train = scaler.fit_transform(X_train)\n",
    "X_test = scaler.transform(X_test)\n",
    "\n",
    "# Check the size of the data\n",
    "# print(len(X_train))\n",
    "# print(len(X_test))\n",
    "\n",
    "# print(len(X_train[0]))\n",
    "# print(len(X_test[0]))\n",
    "\n",
    "# print (len(y_train))\n",
    "# print (len(y_test))"
   ]
  },
  {
   "cell_type": "code",
   "execution_count": 14,
   "id": "a10960f5",
   "metadata": {},
   "outputs": [
    {
     "name": "stdout",
     "output_type": "stream",
     "text": [
      "Accuracy: 0.99\n"
     ]
    }
   ],
   "source": [
    "# Train the SVM classifier on the training data\n",
    "svm.fit(X_train, y_train)\n",
    "\n",
    "# Predict labels for the testing data\n",
    "y_pred = svm.predict(X_test)\n",
    "\n",
    "# Evaluate the performance of the classifier\n",
    "accuracy = accuracy_score(y_test, y_pred)\n",
    "print(\"Accuracy:\", accuracy)"
   ]
  },
  {
   "cell_type": "code",
   "execution_count": 30,
   "id": "f7fdf9ea",
   "metadata": {},
   "outputs": [
    {
     "name": "stdout",
     "output_type": "stream",
     "text": [
      "2\n"
     ]
    }
   ],
   "source": [
    "def predict_new_audio(new_file_path, svm, n_mfcc=20):\n",
    "    input_list = []\n",
    "    signal_new, sr_new = librosa.load(new_file_path, duration=3.0)\n",
    "    mfcc_new = librosa.feature.mfcc(y=signal_new, sr=sr_new, n_mfcc=n_mfcc)\n",
    "    mfcc_flattened=mfcc_new.T.flatten().tolist()\n",
    "    input_list.append(mfcc_flattened)\n",
    "#     print(len(input_list[0]))\n",
    "    input_list = pad_sequences(input_list, maxlen=1500, dtype='float32', padding='post', truncating='post')\n",
    "    y_pred = svm.predict(input_list)\n",
    "    return y_pred\n",
    "\n",
    "print(int(predict_new_audio(\"sample.mp3\", svm)))"
   ]
  },
  {
   "cell_type": "code",
   "execution_count": null,
   "id": "d2ff3f34",
   "metadata": {},
   "outputs": [],
   "source": []
  }
 ],
 "metadata": {
  "kernelspec": {
   "display_name": "Python 3 (ipykernel)",
   "language": "python",
   "name": "python3"
  },
  "language_info": {
   "codemirror_mode": {
    "name": "ipython",
    "version": 3
   },
   "file_extension": ".py",
   "mimetype": "text/x-python",
   "name": "python",
   "nbconvert_exporter": "python",
   "pygments_lexer": "ipython3",
   "version": "3.9.12"
  }
 },
 "nbformat": 4,
 "nbformat_minor": 5
}
