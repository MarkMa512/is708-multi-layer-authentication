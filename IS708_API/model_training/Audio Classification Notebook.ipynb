{
 "cells": [
  {
   "cell_type": "markdown",
   "id": "09f1d960",
   "metadata": {},
   "source": [
    "# Audio Classification using Support Vector Machines (SVMs)"
   ]
  },
  {
   "cell_type": "markdown",
   "id": "d7786248",
   "metadata": {},
   "source": [
    "## Model Training"
   ]
  },
  {
   "cell_type": "code",
   "execution_count": 1,
   "id": "3f8e85fa",
   "metadata": {},
   "outputs": [],
   "source": [
    "# Import Relevant libraries\n",
    "import librosa\n",
    "import os\n",
    "\n",
    "from sklearn.model_selection import train_test_split\n",
    "from sklearn.svm import SVC\n",
    "from sklearn.metrics import accuracy_score, confusion_matrix, precision_score, recall_score, f1_score\n",
    "from sklearn.preprocessing import StandardScaler\n",
    "\n",
    "from tensorflow.keras.preprocessing.sequence import pad_sequences\n",
    "\n",
    "import pickle"
   ]
  },
  {
   "cell_type": "code",
   "execution_count": 2,
   "id": "389474fa",
   "metadata": {},
   "outputs": [],
   "source": [
    "# Define a function to load audio clips and extract features\n",
    "def load_and_extract_features(audio_folder_path:str, n_mfcc=20)->list:\n",
    "    \"\"\"\n",
    "    Load audio clips from a folder and extract MFCC features.\n",
    "    \n",
    "    Parameters:\n",
    "        - audio_folder_path (str): Path to the folder containing subfolders correspond to each person (class) and each containing audio clips.\n",
    "        - n_mfcc (int): Number of Mel-frequency cepstral coefficients (MFCC) to extract.\n",
    "    \n",
    "    Returns:\n",
    "        - X (list): Extracted features (shape: [[n_samples, n_mfcc]]).\n",
    "        - y (list): Labels corresponding to the audio clips (shape: [n_samples,]).\n",
    "    \"\"\"\n",
    "    X = []\n",
    "    y = []\n",
    "    for label in range(1, 6):\n",
    "        folder_path = f\"{audio_folder_path}/{label}\"\n",
    "        for file_name in os.listdir(folder_path):\n",
    "            if not file_name.startswith('.'): \n",
    "                file_path = f\"{folder_path}/{file_name}\"\n",
    "                # print (file_path)\n",
    "                # Load audio clip\n",
    "                signal, sr = librosa.load(file_path, duration=3.0)  # Set duration to 3 seconds\n",
    "                # Extract MFCC features\n",
    "                mfcc = librosa.feature.mfcc(y=signal, sr=sr, n_mfcc=n_mfcc)\n",
    "                # Flatten the list\n",
    "                mfcc_flattened=mfcc.T.flatten().tolist()\n",
    "                # print(len(mfcc_flattened))\n",
    "                # Append features and label to X and y\n",
    "                X.append(mfcc_flattened)\n",
    "                y.append(label)\n",
    "\n",
    "    return X, y"
   ]
  },
  {
   "cell_type": "code",
   "execution_count": 3,
   "id": "f7b0f75c",
   "metadata": {},
   "outputs": [],
   "source": [
    "# Call the function to load and extract features from audio clips\n",
    "audio_folder_path = \"Audio\"  # Path to the folder containing the audio clips\n",
    "X, y = load_and_extract_features(audio_folder_path)"
   ]
  },
  {
   "cell_type": "code",
   "execution_count": 4,
   "id": "6da25ef1",
   "metadata": {},
   "outputs": [
    {
     "data": {
      "text/plain": [
       "2560"
      ]
     },
     "execution_count": 4,
     "metadata": {},
     "output_type": "execute_result"
    }
   ],
   "source": [
    "# Check the length of each element in the X\n",
    "len(X[1])"
   ]
  },
  {
   "cell_type": "code",
   "execution_count": 5,
   "id": "068ae0cc",
   "metadata": {},
   "outputs": [
    {
     "data": {
      "text/plain": [
       "500"
      ]
     },
     "execution_count": 5,
     "metadata": {},
     "output_type": "execute_result"
    }
   ],
   "source": [
    "# Check the length of X\n",
    "len(X)"
   ]
  },
  {
   "cell_type": "code",
   "execution_count": 6,
   "id": "ba2f52ba",
   "metadata": {},
   "outputs": [
    {
     "data": {
      "text/plain": [
       "500"
      ]
     },
     "execution_count": 6,
     "metadata": {},
     "output_type": "execute_result"
    }
   ],
   "source": [
    "# Check the length of y\n",
    "len(y)"
   ]
  },
  {
   "cell_type": "code",
   "execution_count": 7,
   "id": "4ca23065",
   "metadata": {},
   "outputs": [],
   "source": [
    "# Split the data into training and testing sets (20% test, 80% train)\n",
    "X_train, X_test, y_train, y_test = train_test_split(X, y, test_size=0.2, random_state=42)\n",
    "\n",
    "# Initialize an SVM classifier, using linear kernel for the best performance\n",
    "svm = SVC(kernel='linear', probability=True)\n",
    "\n",
    "\n",
    "# Pad or truncate MFCC features to a consistent length\n",
    "X_train = pad_sequences(X_train, maxlen=2500, dtype='float32', padding='post', truncating='post')\n",
    "X_test = pad_sequences(X_test, maxlen=2500, dtype='float32', padding='post', truncating='post')\n",
    "\n",
    "# Standardize the data\n",
    "# REMOVED AS IT IS CAUSING ACCURACY ISSUE\n",
    "# scaler = StandardScaler()\n",
    "# X_train = scaler.fit_transform(X_train)\n",
    "# X_test = scaler.transform(X_test)\n",
    "\n",
    "# Check the size of the data\n",
    "# print(len(X_train))\n",
    "# print(len(X_test))\n",
    "\n",
    "# print(len(X_train[3]))\n",
    "# print(len(X_test[5]))\n",
    "\n",
    "# print (len(y_train))\n",
    "# print (len(y_test))"
   ]
  },
  {
   "cell_type": "code",
   "execution_count": 8,
   "id": "a10960f5",
   "metadata": {},
   "outputs": [],
   "source": [
    "# Train the SVM classifier on the training data\n",
    "svm.fit(X_train, y_train)\n",
    "\n",
    "# Predict labels for the testing data\n",
    "y_pred = svm.predict(X_test)"
   ]
  },
  {
   "cell_type": "markdown",
   "id": "ccdbce80",
   "metadata": {},
   "source": [
    "## Evaluate the Model"
   ]
  },
  {
   "cell_type": "markdown",
   "id": "f45b9d02",
   "metadata": {},
   "source": [
    "### Confusion Matrix"
   ]
  },
  {
   "cell_type": "code",
   "execution_count": 9,
   "id": "50991d7c",
   "metadata": {},
   "outputs": [
    {
     "name": "stdout",
     "output_type": "stream",
     "text": [
      "Confusion Matrix:\n",
      " [[27  1  0  0  0]\n",
      " [ 0 14  0  0  0]\n",
      " [ 0  0 10  0  0]\n",
      " [ 0  0  0 24  0]\n",
      " [ 0  0  0  0 24]]\n"
     ]
    }
   ],
   "source": [
    "confusion_mat = confusion_matrix(y_test, y_pred)\n",
    "print(\"Confusion Matrix:\\n\", confusion_mat)"
   ]
  },
  {
   "cell_type": "markdown",
   "id": "68d47a60",
   "metadata": {},
   "source": [
    "### Accuracy"
   ]
  },
  {
   "cell_type": "code",
   "execution_count": 10,
   "id": "9dce0518",
   "metadata": {},
   "outputs": [
    {
     "name": "stdout",
     "output_type": "stream",
     "text": [
      "Accuracy: 0.99\n"
     ]
    }
   ],
   "source": [
    "accuracy = accuracy_score(y_test, y_pred)\n",
    "print(\"Accuracy:\", accuracy)"
   ]
  },
  {
   "cell_type": "markdown",
   "id": "50685d74",
   "metadata": {},
   "source": [
    "### Precision"
   ]
  },
  {
   "cell_type": "code",
   "execution_count": 11,
   "id": "bd46476f",
   "metadata": {},
   "outputs": [
    {
     "name": "stdout",
     "output_type": "stream",
     "text": [
      "Precision (None): [1.         0.93333333 1.         1.         1.        ]\n",
      "Precision (macro): 0.9866666666666667\n"
     ]
    }
   ],
   "source": [
    "# Calculate precision score for each person separately\n",
    "precision_none = precision_score(y_test, y_pred, average=None)\n",
    "\n",
    "# Calculate macro-averaged precision score\n",
    "precision_macro = precision_score(y_test, y_pred, average='macro')\n",
    "print(\"Precision (None):\", precision_none)\n",
    "print(\"Precision (macro):\", precision_macro)"
   ]
  },
  {
   "cell_type": "markdown",
   "id": "02bcf736",
   "metadata": {},
   "source": [
    "### Recall"
   ]
  },
  {
   "cell_type": "code",
   "execution_count": 12,
   "id": "bbdb8bba",
   "metadata": {},
   "outputs": [
    {
     "name": "stdout",
     "output_type": "stream",
     "text": [
      "Recall (None): [0.96428571 1.         1.         1.         1.        ]\n",
      "Recall (macro): 0.9928571428571429\n"
     ]
    }
   ],
   "source": [
    "recall_none = recall_score(y_test, y_pred, average=None)\n",
    "recall_macro = recall_score(y_test, y_pred, average='macro')\n",
    "print(\"Recall (None):\", recall_none)\n",
    "print(\"Recall (macro):\", recall_macro)"
   ]
  },
  {
   "cell_type": "markdown",
   "id": "c53676de",
   "metadata": {},
   "source": [
    "### F1 score"
   ]
  },
  {
   "cell_type": "code",
   "execution_count": 13,
   "id": "3c679edf",
   "metadata": {},
   "outputs": [
    {
     "name": "stdout",
     "output_type": "stream",
     "text": [
      "F1 Score (None): [0.98181818 0.96551724 1.         1.         1.        ]\n",
      "F1 Score (macro): 0.9894670846394984\n"
     ]
    }
   ],
   "source": [
    "f1_none = f1_score(y_test, y_pred, average=None)\n",
    "f1_macro= f1_score(y_test, y_pred, average=\"macro\")\n",
    "print(\"F1 Score (None):\", f1_none)\n",
    "print(\"F1 Score (macro):\", f1_macro)"
   ]
  },
  {
   "cell_type": "markdown",
   "id": "5577355c",
   "metadata": {},
   "source": [
    "## Prediction Function"
   ]
  },
  {
   "cell_type": "code",
   "execution_count": 14,
   "id": "f7fdf9ea",
   "metadata": {},
   "outputs": [],
   "source": [
    "def predict_new_audio(new_audio_path:str, svm:object, n_mfcc=20)->int:\n",
    "    \n",
    "    \"\"\"\n",
    "    Predict the source of new audio at new_audio_path based on the model svm trained. \n",
    "    \n",
    "    Parameters:\n",
    "        - new_audio_path (str): Path to the folder containing new audio to be predicted. \n",
    "        - svm: trained SVM model \n",
    "        - n_mfcc (int): Number of Mel-frequency cepstral coefficients (MFCC) to extract, default = 20. \n",
    "    \n",
    "    Returns:\n",
    "        - y_pred[0](int): The predicted label for the given new audio. \n",
    "    \"\"\"\n",
    "    \n",
    "    input_list = []\n",
    "    # Load audio clip \n",
    "    signal_new, sr_new = librosa.load(new_audio_path, duration=3.0)\n",
    "    # abstract the mfcc features\n",
    "    mfcc_new = librosa.feature.mfcc(y=signal_new, sr=sr_new, n_mfcc=n_mfcc)\n",
    "    # flatten the list \n",
    "    mfcc_flattened=mfcc_new.T.flatten().tolist()\n",
    "    input_list.append(mfcc_flattened)\n",
    "    # padd the list to ensure consistent length\n",
    "    input_list = pad_sequences(input_list, maxlen=2500, dtype='float32', padding='post', truncating='post')\n",
    "    # predict the label from the list using the model. \n",
    "    y_pred = svm.predict(input_list)\n",
    "    return y_pred[0]"
   ]
  },
  {
   "cell_type": "markdown",
   "id": "383d1fd3",
   "metadata": {},
   "source": [
    "## Test Cases"
   ]
  },
  {
   "cell_type": "code",
   "execution_count": 15,
   "id": "f9ac6692",
   "metadata": {},
   "outputs": [
    {
     "name": "stdout",
     "output_type": "stream",
     "text": [
      "1\n"
     ]
    }
   ],
   "source": [
    "# Expected output: 1\n",
    "print(predict_new_audio(\"Audio/1/1677931349968.mp3\", svm))"
   ]
  },
  {
   "cell_type": "code",
   "execution_count": 16,
   "id": "ab415c56",
   "metadata": {},
   "outputs": [
    {
     "name": "stdout",
     "output_type": "stream",
     "text": [
      "4\n"
     ]
    }
   ],
   "source": [
    "# Expected output: 4\n",
    "print(predict_new_audio(\"Audio/4/1678429656280.mp3\", svm))"
   ]
  },
  {
   "cell_type": "code",
   "execution_count": 17,
   "id": "f8c70b9d",
   "metadata": {},
   "outputs": [
    {
     "name": "stdout",
     "output_type": "stream",
     "text": [
      "2\n"
     ]
    }
   ],
   "source": [
    "# Expected output: 2\n",
    "print(predict_new_audio(\"Audio/2/1677933179540.mp3\", svm))"
   ]
  },
  {
   "cell_type": "markdown",
   "id": "ee78a51d",
   "metadata": {},
   "source": [
    "## Probability for each class"
   ]
  },
  {
   "cell_type": "code",
   "execution_count": 20,
   "id": "396cc976",
   "metadata": {},
   "outputs": [
    {
     "name": "stdout",
     "output_type": "stream",
     "text": [
      "[[6.86389841e-02 5.87236433e-02 3.27653903e-02 8.16691842e-01\n",
      "  2.31801400e-02]\n",
      " [9.72506939e-01 1.46940940e-02 2.21316774e-03 3.59078599e-03\n",
      "  6.99501327e-03]\n",
      " [1.29726181e-03 5.10195301e-04 1.16188093e-02 9.68280532e-01\n",
      "  1.82932019e-02]\n",
      " [6.51174288e-02 9.33424240e-01 5.25074486e-04 4.80335882e-04\n",
      "  4.52921247e-04]\n",
      " [2.40199510e-02 9.53986202e-01 6.09747874e-03 6.53124400e-03\n",
      "  9.36512466e-03]\n",
      " [8.31310246e-04 5.72815662e-04 1.26267292e-02 9.68845760e-01\n",
      "  1.71233852e-02]\n",
      " [9.97699390e-04 3.58303949e-04 6.85329482e-03 9.83921840e-01\n",
      "  7.86886228e-03]\n",
      " [4.04529193e-02 9.44592187e-01 3.62933051e-03 6.90437848e-03\n",
      "  4.42118489e-03]\n",
      " [8.93532233e-01 9.73085829e-02 1.63576306e-03 2.71847994e-03\n",
      "  4.80494121e-03]\n",
      " [1.89647241e-03 2.34571753e-03 4.86211261e-03 6.15559775e-03\n",
      "  9.84740100e-01]\n",
      " [9.54914075e-01 2.61632039e-02 7.99624513e-03 5.36980121e-03\n",
      "  5.55667496e-03]\n",
      " [2.73833694e-02 9.00672510e-01 1.24879379e-02 1.23523756e-02\n",
      "  4.71038071e-02]\n",
      " [9.88376701e-03 1.55519659e-02 3.41871874e-02 2.05051350e-02\n",
      "  9.19871945e-01]\n",
      " [9.69765155e-01 2.60607477e-02 7.83898508e-04 6.97166382e-04\n",
      "  2.69303232e-03]\n",
      " [2.42500768e-02 9.92358566e-03 2.27710028e-02 5.93495617e-01\n",
      "  3.49559718e-01]\n",
      " [8.86374563e-04 1.96180285e-03 9.68776514e-03 9.56317428e-01\n",
      "  3.11466299e-02]\n",
      " [6.83283283e-04 3.41973959e-04 5.99312834e-02 1.00069471e-02\n",
      "  9.29036512e-01]\n",
      " [9.83114820e-01 5.67118474e-03 2.66196289e-03 3.94644049e-03\n",
      "  4.60559224e-03]\n",
      " [3.81596887e-04 1.57497956e-04 4.72781564e-03 9.75533978e-01\n",
      "  1.91991118e-02]\n",
      " [4.57091598e-04 6.34496716e-04 1.49828459e-02 5.40489848e-03\n",
      "  9.78520667e-01]\n",
      " [6.76874426e-04 9.42646129e-04 2.12536612e-02 2.43742106e-03\n",
      "  9.74689397e-01]\n",
      " [3.51357174e-02 1.94165713e-02 4.24286899e-02 1.26097573e-02\n",
      "  8.90409264e-01]\n",
      " [7.18155842e-04 3.47426265e-04 9.91805843e-01 1.59239561e-03\n",
      "  5.53617947e-03]\n",
      " [4.86390473e-03 1.21267267e-03 1.36491649e-03 9.87718694e-01\n",
      "  4.83981220e-03]\n",
      " [6.51602777e-01 3.00930206e-01 1.83226106e-02 7.50772569e-03\n",
      "  2.16366803e-02]\n",
      " [2.58403287e-03 1.22428057e-03 8.96333854e-02 1.96665161e-02\n",
      "  8.86891785e-01]\n",
      " [2.56231990e-03 3.54601899e-04 5.92124504e-02 3.04350453e-02\n",
      "  9.07435582e-01]\n",
      " [6.24504812e-03 2.60923609e-03 9.82679399e-01 3.64639255e-03\n",
      "  4.81992380e-03]\n",
      " [1.02115575e-01 7.84480752e-01 4.36587570e-02 4.16638238e-02\n",
      "  2.80810920e-02]\n",
      " [2.67877372e-03 9.02905805e-04 1.89996732e-03 9.88358138e-01\n",
      "  6.16021527e-03]\n",
      " [1.36718522e-02 2.30446528e-02 2.13867587e-01 3.54189903e-02\n",
      "  7.13996917e-01]\n",
      " [7.11355908e-04 2.59854982e-04 8.02632608e-03 9.75315388e-01\n",
      "  1.56870750e-02]\n",
      " [2.60852338e-03 1.28173899e-03 2.22839521e-02 1.69485394e-02\n",
      "  9.56877246e-01]\n",
      " [1.35806442e-01 8.38755944e-01 7.45960848e-03 8.94090960e-03\n",
      "  9.03709564e-03]\n",
      " [9.58860208e-01 3.42432146e-02 1.77632275e-03 2.22515216e-03\n",
      "  2.89510205e-03]\n",
      " [3.81014539e-03 5.53130584e-04 1.23672220e-03 9.92545742e-01\n",
      "  1.85425979e-03]\n",
      " [1.04592581e-02 8.04661313e-03 1.02766281e-01 9.27195132e-03\n",
      "  8.69455897e-01]\n",
      " [9.80129245e-01 1.53169523e-02 6.49359615e-04 2.53170465e-03\n",
      "  1.37273809e-03]\n",
      " [1.55463577e-03 1.55399032e-03 9.58741168e-01 9.14309849e-03\n",
      "  2.90071072e-02]\n",
      " [9.85078472e-01 1.20987101e-02 1.07138706e-03 7.91951517e-04\n",
      "  9.59479115e-04]\n",
      " [2.44491126e-03 6.35750253e-04 1.10337151e-03 9.92389719e-01\n",
      "  3.42624781e-03]\n",
      " [9.85663834e-01 1.01619085e-02 8.65121705e-04 2.14591065e-03\n",
      "  1.16322491e-03]\n",
      " [4.32419347e-03 1.05204748e-02 1.82116060e-02 5.54201623e-03\n",
      "  9.61401709e-01]\n",
      " [3.58884738e-02 9.02411499e-01 3.13671897e-02 1.80196661e-02\n",
      "  1.23131710e-02]\n",
      " [9.68965930e-01 1.62832034e-02 3.69734215e-03 3.41804398e-03\n",
      "  7.63548004e-03]\n",
      " [9.84693381e-01 9.96962060e-03 8.63149726e-04 1.51288466e-03\n",
      "  2.96096451e-03]\n",
      " [9.48670296e-01 3.51280600e-02 7.15232393e-03 4.93761557e-03\n",
      "  4.11170495e-03]\n",
      " [9.49514590e-01 1.60111031e-02 7.17572154e-03 1.72002176e-02\n",
      "  1.00983674e-02]\n",
      " [2.06635548e-03 3.45996111e-03 1.81841974e-02 6.04102585e-03\n",
      "  9.70248460e-01]\n",
      " [8.90431587e-01 1.08037019e-01 3.89040966e-04 6.47091490e-04\n",
      "  4.95260915e-04]\n",
      " [9.81716366e-01 8.90732022e-03 2.49568106e-03 2.75032000e-03\n",
      "  4.13031226e-03]\n",
      " [6.65828063e-02 9.26598546e-01 1.64736916e-03 2.12550755e-03\n",
      "  3.04577094e-03]\n",
      " [1.01354974e-02 9.65577690e-01 6.79874059e-03 7.58463811e-03\n",
      "  9.90343343e-03]\n",
      " [1.54087299e-03 1.59647792e-03 4.15228612e-03 8.82140916e-03\n",
      "  9.83888954e-01]\n",
      " [4.11076312e-02 9.54791409e-01 2.17201749e-03 1.00007168e-03\n",
      "  9.28870322e-04]\n",
      " [9.67565339e-01 1.49788912e-02 5.09725915e-03 6.77177885e-03\n",
      "  5.58673161e-03]\n",
      " [1.65120456e-03 9.95948079e-01 7.23527105e-04 7.23058694e-04\n",
      "  9.54130705e-04]\n",
      " [9.85287863e-01 4.86322550e-03 3.98615494e-03 3.88917377e-03\n",
      "  1.97358231e-03]\n",
      " [4.46372306e-03 4.77149214e-03 9.85184007e-01 1.46699303e-03\n",
      "  4.11378460e-03]\n",
      " [9.77634217e-01 6.08833038e-03 3.90497037e-03 5.85222907e-03\n",
      "  6.52025312e-03]\n",
      " [1.40322986e-03 7.14092005e-04 3.22752020e-02 6.45216763e-03\n",
      "  9.59155308e-01]\n",
      " [4.80539788e-03 2.38656562e-03 9.66763234e-01 7.46080115e-03\n",
      "  1.85840014e-02]\n",
      " [3.32813551e-03 2.22362198e-03 7.71119047e-03 9.55449039e-01\n",
      "  3.12880131e-02]\n",
      " [1.00104308e-02 4.46945551e-03 2.83340350e-02 1.51384572e-02\n",
      "  9.42047621e-01]\n",
      " [9.36225824e-01 4.87288853e-02 3.63240436e-03 6.35375601e-03\n",
      "  5.05913068e-03]\n",
      " [9.81132091e-01 9.07244931e-03 4.41778333e-03 4.46970705e-03\n",
      "  9.07969362e-04]\n",
      " [5.17867219e-02 1.33028115e-01 9.88625767e-02 5.95189068e-02\n",
      "  6.56803680e-01]\n",
      " [2.61232853e-01 7.05704099e-01 6.81976266e-03 1.16899633e-02\n",
      "  1.45533211e-02]\n",
      " [5.60661096e-04 8.71901239e-04 9.95740381e-01 4.61439570e-04\n",
      "  2.36561678e-03]\n",
      " [1.09899732e-03 3.99827553e-04 2.36037228e-03 9.85717773e-01\n",
      "  1.04230298e-02]\n",
      " [1.16053582e-03 2.91090644e-04 2.38588446e-03 9.91720238e-01\n",
      "  4.44225117e-03]\n",
      " [1.16794207e-02 1.44950947e-03 1.03530192e-02 9.66414618e-01\n",
      "  1.01034323e-02]\n",
      " [1.00735719e-03 9.17343692e-04 9.95116046e-01 1.00816248e-03\n",
      "  1.95109018e-03]\n",
      " [2.08478780e-03 5.55599303e-04 9.32203938e-01 5.68812349e-02\n",
      "  8.27443999e-03]\n",
      " [2.13974726e-03 6.94810122e-04 3.42909062e-03 9.80724775e-01\n",
      "  1.30115769e-02]\n",
      " [5.74553079e-04 2.73721826e-04 4.57656762e-03 9.91396820e-01\n",
      "  3.17833764e-03]\n",
      " [2.44573221e-03 2.79837233e-03 9.86492151e-01 2.86960339e-03\n",
      "  5.39414125e-03]\n",
      " [7.96216224e-01 1.37098062e-01 1.16967949e-02 2.76937167e-02\n",
      "  2.72952023e-02]\n",
      " [5.79994834e-02 1.01729835e-02 1.77612755e-02 1.29334131e-01\n",
      "  7.84732127e-01]\n",
      " [9.29618478e-04 1.77776273e-03 1.36982755e-02 3.33110369e-03\n",
      "  9.80263240e-01]\n",
      " [4.97148325e-02 9.27029594e-01 5.24325022e-03 5.22132224e-03\n",
      "  1.27910009e-02]\n",
      " [9.92434826e-01 2.93759333e-03 1.51215256e-03 1.99095054e-03\n",
      "  1.12447742e-03]\n",
      " [2.01812716e-03 3.57719513e-03 2.74311234e-02 4.97008570e-03\n",
      "  9.62003469e-01]\n",
      " [3.41774875e-02 9.58692031e-01 1.39000873e-03 2.43472985e-03\n",
      "  3.30574244e-03]\n",
      " [5.04222530e-03 1.02337272e-03 1.04629996e-03 9.89204751e-01\n",
      "  3.68335075e-03]\n",
      " [9.85293398e-01 7.16762950e-03 1.61264043e-03 3.19813518e-03\n",
      "  2.72819639e-03]\n",
      " [4.27854713e-02 9.43935272e-01 4.19981831e-03 5.86379426e-03\n",
      "  3.21564398e-03]\n",
      " [3.03075303e-03 3.21507896e-03 6.64367881e-02 1.51412131e-02\n",
      "  9.12176167e-01]\n",
      " [4.89633867e-04 2.12962743e-04 3.29635749e-03 9.86390726e-01\n",
      "  9.61031951e-03]\n",
      " [1.01330632e-03 7.46510247e-04 9.67087985e-01 7.84875696e-03\n",
      "  2.33034420e-02]\n",
      " [5.59677642e-03 4.46958477e-03 2.38510520e-03 9.83065688e-01\n",
      "  4.48284533e-03]\n",
      " [9.61111516e-03 1.29191379e-03 2.70130374e-02 2.04182736e-01\n",
      "  7.57901198e-01]\n",
      " [2.66800824e-03 5.11909186e-04 1.38520317e-02 9.74395462e-01\n",
      "  8.57258841e-03]\n",
      " [2.66517520e-03 1.74676625e-03 3.89956498e-02 9.43073216e-01\n",
      "  1.35191926e-02]\n",
      " [1.41039225e-02 1.17992384e-02 6.49334599e-02 3.60661595e-02\n",
      "  8.73097220e-01]\n",
      " [1.00770846e-01 5.51546393e-02 7.05200170e-02 7.34892240e-01\n",
      "  3.86622578e-02]\n",
      " [9.80462342e-01 8.61881107e-03 2.65257620e-03 3.46226686e-03\n",
      "  4.80400432e-03]\n",
      " [9.51236189e-01 1.34164163e-02 1.21675954e-02 1.57222706e-02\n",
      "  7.45752889e-03]\n",
      " [1.00094286e-02 9.21851286e-04 1.01806170e-01 6.15828925e-02\n",
      "  8.25679657e-01]\n",
      " [9.87749875e-01 4.49340146e-03 1.65705563e-03 2.82475654e-03\n",
      "  3.27491141e-03]]\n"
     ]
    }
   ],
   "source": [
    "probabilities = svm.predict_proba(X_test)\n",
    "print(probabilities)"
   ]
  },
  {
   "cell_type": "markdown",
   "id": "f9363a13",
   "metadata": {},
   "source": [
    "## Export the Model"
   ]
  },
  {
   "cell_type": "code",
   "execution_count": null,
   "id": "d2ff3f34",
   "metadata": {},
   "outputs": [],
   "source": [
    "# Save the trained model to a file\n",
    "filename = 'audio_svm_model.pkl'\n",
    "with open(filename, 'wb') as file:\n",
    "    pickle.dump(svm, file)"
   ]
  },
  {
   "cell_type": "code",
   "execution_count": null,
   "id": "3e480e16",
   "metadata": {},
   "outputs": [],
   "source": [
    "filename = 'audio_svm_model.pkl'\n",
    "with open(filename, 'rb') as file:\n",
    "    clf = pickle.load(file)"
   ]
  }
 ],
 "metadata": {
  "kernelspec": {
   "display_name": "Python 3 (ipykernel)",
   "language": "python",
   "name": "python3"
  },
  "language_info": {
   "codemirror_mode": {
    "name": "ipython",
    "version": 3
   },
   "file_extension": ".py",
   "mimetype": "text/x-python",
   "name": "python",
   "nbconvert_exporter": "python",
   "pygments_lexer": "ipython3",
   "version": "3.9.12"
  }
 },
 "nbformat": 4,
 "nbformat_minor": 5
}
