{
 "cells": [
  {
   "cell_type": "markdown",
   "id": "86d53ac8",
   "metadata": {},
   "source": [
    "# Using RandomForestClassifier"
   ]
  },
  {
   "cell_type": "code",
   "execution_count": 1,
   "id": "3f302ef2",
   "metadata": {},
   "outputs": [],
   "source": [
    "import pandas as pd\n",
    "import numpy as np\n",
    "import os\n",
    "from sklearn.model_selection import train_test_split\n",
    "from sklearn.ensemble import RandomForestClassifier\n",
    "from sklearn.metrics import accuracy_score, confusion_matrix\n",
    "import pickle"
   ]
  },
  {
   "cell_type": "code",
   "execution_count": 2,
   "id": "654929ab",
   "metadata": {},
   "outputs": [],
   "source": [
    "# Path to the folder containing the training data\n",
    "gesture_folder_path = \"Gesture\" "
   ]
  },
  {
   "cell_type": "code",
   "execution_count": 21,
   "id": "df694d55",
   "metadata": {},
   "outputs": [],
   "source": [
    "# Read CSV files into DataFrames and concatenate them into a single DataFrame\n",
    "def load_csv_to_df(gesture_folder_path:str)->object:\n",
    "    \n",
    "    \"\"\"\n",
    "    Load CSV files into DataFrames and concatenate them into a single DataFrame\n",
    "    \n",
    "    Parameters:\n",
    "        - gesture_folder_path (str): Path to the folder containing subfolders correspond to each person (class) and each containing audio clips.\n",
    "    \n",
    "    Returns:\n",
    "        - df: Data frame containing all the readings, labeled by the person with relative timing calculated for each reading. \n",
    "    \"\"\"\n",
    "    \n",
    "    dfs = []\n",
    "    # for person 1 to 5: \n",
    "    for label in range(1, 6):\n",
    "        # generate path from subfolder 1 to 5, eg \"Gesture/1\"\n",
    "        folder_path = f\"{gesture_folder_path}/{label}\"\n",
    "        # for each csv file in the folder: \n",
    "        for file_name in os.listdir(folder_path):\n",
    "                # to ignore any DS_Store file \n",
    "                if not file_name.startswith('.'): \n",
    "                    file_path = f\"{folder_path}/{file_name}\"\n",
    "                    df = pd.read_csv(file_path)\n",
    "                    # Label each row with the Person Number as the label\n",
    "                    df[\"Person\"] = label\n",
    "                    # Calculate the relative time difference for each row of reading \n",
    "                    # compared to the 1st row of reading in each CSV file / reading \n",
    "                    df['relative_time'] = df['Timestamp'].apply(lambda x: (x - df['Timestamp'][0]))\n",
    "                    dfs.append(df)\n",
    "    df = pd.concat(dfs)\n",
    "    return df"
   ]
  },
  {
   "cell_type": "code",
   "execution_count": 22,
   "id": "9dd8a977",
   "metadata": {},
   "outputs": [
    {
     "data": {
      "text/html": [
       "<div>\n",
       "<style scoped>\n",
       "    .dataframe tbody tr th:only-of-type {\n",
       "        vertical-align: middle;\n",
       "    }\n",
       "\n",
       "    .dataframe tbody tr th {\n",
       "        vertical-align: top;\n",
       "    }\n",
       "\n",
       "    .dataframe thead th {\n",
       "        text-align: right;\n",
       "    }\n",
       "</style>\n",
       "<table border=\"1\" class=\"dataframe\">\n",
       "  <thead>\n",
       "    <tr style=\"text-align: right;\">\n",
       "      <th></th>\n",
       "      <th>Timestamp</th>\n",
       "      <th>AccelX</th>\n",
       "      <th>AccelY</th>\n",
       "      <th>AccelZ</th>\n",
       "      <th>GyroX</th>\n",
       "      <th>GyroY</th>\n",
       "      <th>GyroZ</th>\n",
       "      <th>Person</th>\n",
       "      <th>relative_time</th>\n",
       "    </tr>\n",
       "  </thead>\n",
       "  <tbody>\n",
       "    <tr>\n",
       "      <th>2851</th>\n",
       "      <td>150826668708568</td>\n",
       "      <td>-0.280122</td>\n",
       "      <td>3.538630</td>\n",
       "      <td>8.052000</td>\n",
       "      <td>1.331534</td>\n",
       "      <td>-0.940274</td>\n",
       "      <td>0.085063</td>\n",
       "      <td>5</td>\n",
       "      <td>2980211645</td>\n",
       "    </tr>\n",
       "    <tr>\n",
       "      <th>2852</th>\n",
       "      <td>150826670708368</td>\n",
       "      <td>-0.280122</td>\n",
       "      <td>3.538630</td>\n",
       "      <td>8.052000</td>\n",
       "      <td>1.331534</td>\n",
       "      <td>-0.940274</td>\n",
       "      <td>0.085063</td>\n",
       "      <td>5</td>\n",
       "      <td>2982211445</td>\n",
       "    </tr>\n",
       "    <tr>\n",
       "      <th>2853</th>\n",
       "      <td>150826670708368</td>\n",
       "      <td>-0.280122</td>\n",
       "      <td>3.538630</td>\n",
       "      <td>8.052000</td>\n",
       "      <td>1.335810</td>\n",
       "      <td>-0.978148</td>\n",
       "      <td>0.085674</td>\n",
       "      <td>5</td>\n",
       "      <td>2982211445</td>\n",
       "    </tr>\n",
       "    <tr>\n",
       "      <th>2854</th>\n",
       "      <td>150826672708168</td>\n",
       "      <td>-0.289698</td>\n",
       "      <td>3.550601</td>\n",
       "      <td>8.011298</td>\n",
       "      <td>1.335810</td>\n",
       "      <td>-0.978148</td>\n",
       "      <td>0.085674</td>\n",
       "      <td>5</td>\n",
       "      <td>2984211245</td>\n",
       "    </tr>\n",
       "    <tr>\n",
       "      <th>2855</th>\n",
       "      <td>150826672708168</td>\n",
       "      <td>-0.289698</td>\n",
       "      <td>3.550601</td>\n",
       "      <td>8.011298</td>\n",
       "      <td>1.338864</td>\n",
       "      <td>-0.995863</td>\n",
       "      <td>0.082620</td>\n",
       "      <td>5</td>\n",
       "      <td>2984211245</td>\n",
       "    </tr>\n",
       "  </tbody>\n",
       "</table>\n",
       "</div>"
      ],
      "text/plain": [
       "            Timestamp    AccelX    AccelY    AccelZ     GyroX     GyroY  \\\n",
       "2851  150826668708568 -0.280122  3.538630  8.052000  1.331534 -0.940274   \n",
       "2852  150826670708368 -0.280122  3.538630  8.052000  1.331534 -0.940274   \n",
       "2853  150826670708368 -0.280122  3.538630  8.052000  1.335810 -0.978148   \n",
       "2854  150826672708168 -0.289698  3.550601  8.011298  1.335810 -0.978148   \n",
       "2855  150826672708168 -0.289698  3.550601  8.011298  1.338864 -0.995863   \n",
       "\n",
       "         GyroZ  Person  relative_time  \n",
       "2851  0.085063       5     2980211645  \n",
       "2852  0.085063       5     2982211445  \n",
       "2853  0.085674       5     2982211445  \n",
       "2854  0.085674       5     2984211245  \n",
       "2855  0.082620       5     2984211245  "
      ]
     },
     "execution_count": 22,
     "metadata": {},
     "output_type": "execute_result"
    }
   ],
   "source": [
    "# Load the data  \n",
    "df = load_csv_to_df(gesture_folder_path)\n",
    "\n",
    "# Inspect the data \n",
    "df.tail()"
   ]
  },
  {
   "cell_type": "code",
   "execution_count": 5,
   "id": "f5c4ee0c",
   "metadata": {},
   "outputs": [
    {
     "data": {
      "text/html": [
       "<div>\n",
       "<style scoped>\n",
       "    .dataframe tbody tr th:only-of-type {\n",
       "        vertical-align: middle;\n",
       "    }\n",
       "\n",
       "    .dataframe tbody tr th {\n",
       "        vertical-align: top;\n",
       "    }\n",
       "\n",
       "    .dataframe thead th {\n",
       "        text-align: right;\n",
       "    }\n",
       "</style>\n",
       "<table border=\"1\" class=\"dataframe\">\n",
       "  <thead>\n",
       "    <tr style=\"text-align: right;\">\n",
       "      <th></th>\n",
       "      <th>Timestamp</th>\n",
       "      <th>AccelX</th>\n",
       "      <th>AccelY</th>\n",
       "      <th>AccelZ</th>\n",
       "      <th>GyroX</th>\n",
       "      <th>GyroY</th>\n",
       "      <th>GyroZ</th>\n",
       "      <th>Person</th>\n",
       "      <th>relative_time</th>\n",
       "    </tr>\n",
       "  </thead>\n",
       "  <tbody>\n",
       "    <tr>\n",
       "      <th>0</th>\n",
       "      <td>30779640458668</td>\n",
       "      <td>4.419696</td>\n",
       "      <td>7.029675</td>\n",
       "      <td>5.210082</td>\n",
       "      <td>3.634725</td>\n",
       "      <td>-5.124854</td>\n",
       "      <td>-0.266185</td>\n",
       "      <td>1</td>\n",
       "      <td>0</td>\n",
       "    </tr>\n",
       "    <tr>\n",
       "      <th>1</th>\n",
       "      <td>30779642986703</td>\n",
       "      <td>4.419696</td>\n",
       "      <td>7.029675</td>\n",
       "      <td>5.210082</td>\n",
       "      <td>3.634725</td>\n",
       "      <td>-5.124854</td>\n",
       "      <td>-0.266185</td>\n",
       "      <td>1</td>\n",
       "      <td>2528035</td>\n",
       "    </tr>\n",
       "    <tr>\n",
       "      <th>2</th>\n",
       "      <td>30779644981203</td>\n",
       "      <td>4.419696</td>\n",
       "      <td>7.029675</td>\n",
       "      <td>5.210082</td>\n",
       "      <td>3.634725</td>\n",
       "      <td>-5.124854</td>\n",
       "      <td>-0.266185</td>\n",
       "      <td>1</td>\n",
       "      <td>4522535</td>\n",
       "    </tr>\n",
       "    <tr>\n",
       "      <th>3</th>\n",
       "      <td>30779646981536</td>\n",
       "      <td>4.419696</td>\n",
       "      <td>7.029675</td>\n",
       "      <td>5.210082</td>\n",
       "      <td>3.634725</td>\n",
       "      <td>-5.124854</td>\n",
       "      <td>-0.266185</td>\n",
       "      <td>1</td>\n",
       "      <td>6522868</td>\n",
       "    </tr>\n",
       "    <tr>\n",
       "      <th>4</th>\n",
       "      <td>30779648981786</td>\n",
       "      <td>4.419696</td>\n",
       "      <td>7.029675</td>\n",
       "      <td>5.210082</td>\n",
       "      <td>3.634725</td>\n",
       "      <td>-5.124854</td>\n",
       "      <td>-0.266185</td>\n",
       "      <td>1</td>\n",
       "      <td>8523118</td>\n",
       "    </tr>\n",
       "  </tbody>\n",
       "</table>\n",
       "</div>"
      ],
      "text/plain": [
       "        Timestamp    AccelX    AccelY    AccelZ     GyroX     GyroY     GyroZ  \\\n",
       "0  30779640458668  4.419696  7.029675  5.210082  3.634725 -5.124854 -0.266185   \n",
       "1  30779642986703  4.419696  7.029675  5.210082  3.634725 -5.124854 -0.266185   \n",
       "2  30779644981203  4.419696  7.029675  5.210082  3.634725 -5.124854 -0.266185   \n",
       "3  30779646981536  4.419696  7.029675  5.210082  3.634725 -5.124854 -0.266185   \n",
       "4  30779648981786  4.419696  7.029675  5.210082  3.634725 -5.124854 -0.266185   \n",
       "\n",
       "   Person  relative_time  \n",
       "0       1              0  \n",
       "1       1        2528035  \n",
       "2       1        4522535  \n",
       "3       1        6522868  \n",
       "4       1        8523118  "
      ]
     },
     "execution_count": 5,
     "metadata": {},
     "output_type": "execute_result"
    }
   ],
   "source": [
    "df.head()"
   ]
  },
  {
   "cell_type": "code",
   "execution_count": 6,
   "id": "7758df36",
   "metadata": {},
   "outputs": [],
   "source": [
    "# Split data into features and labels\n",
    "X = df.drop([\"Person\", \"Timestamp\"], axis=1)  # Drop \"Person\" and \"Timestamp\" columns as features\n",
    "y = df[\"Person\"]  # Use \"Person\" column as labels"
   ]
  },
  {
   "cell_type": "code",
   "execution_count": 7,
   "id": "88de14c9",
   "metadata": {},
   "outputs": [
    {
     "data": {
      "text/html": [
       "<div>\n",
       "<style scoped>\n",
       "    .dataframe tbody tr th:only-of-type {\n",
       "        vertical-align: middle;\n",
       "    }\n",
       "\n",
       "    .dataframe tbody tr th {\n",
       "        vertical-align: top;\n",
       "    }\n",
       "\n",
       "    .dataframe thead th {\n",
       "        text-align: right;\n",
       "    }\n",
       "</style>\n",
       "<table border=\"1\" class=\"dataframe\">\n",
       "  <thead>\n",
       "    <tr style=\"text-align: right;\">\n",
       "      <th></th>\n",
       "      <th>AccelX</th>\n",
       "      <th>AccelY</th>\n",
       "      <th>AccelZ</th>\n",
       "      <th>GyroX</th>\n",
       "      <th>GyroY</th>\n",
       "      <th>GyroZ</th>\n",
       "      <th>relative_time</th>\n",
       "    </tr>\n",
       "  </thead>\n",
       "  <tbody>\n",
       "    <tr>\n",
       "      <th>0</th>\n",
       "      <td>4.419696</td>\n",
       "      <td>7.029675</td>\n",
       "      <td>5.210082</td>\n",
       "      <td>3.634725</td>\n",
       "      <td>-5.124854</td>\n",
       "      <td>-0.266185</td>\n",
       "      <td>0</td>\n",
       "    </tr>\n",
       "    <tr>\n",
       "      <th>1</th>\n",
       "      <td>4.419696</td>\n",
       "      <td>7.029675</td>\n",
       "      <td>5.210082</td>\n",
       "      <td>3.634725</td>\n",
       "      <td>-5.124854</td>\n",
       "      <td>-0.266185</td>\n",
       "      <td>2528035</td>\n",
       "    </tr>\n",
       "    <tr>\n",
       "      <th>2</th>\n",
       "      <td>4.419696</td>\n",
       "      <td>7.029675</td>\n",
       "      <td>5.210082</td>\n",
       "      <td>3.634725</td>\n",
       "      <td>-5.124854</td>\n",
       "      <td>-0.266185</td>\n",
       "      <td>4522535</td>\n",
       "    </tr>\n",
       "    <tr>\n",
       "      <th>3</th>\n",
       "      <td>4.419696</td>\n",
       "      <td>7.029675</td>\n",
       "      <td>5.210082</td>\n",
       "      <td>3.634725</td>\n",
       "      <td>-5.124854</td>\n",
       "      <td>-0.266185</td>\n",
       "      <td>6522868</td>\n",
       "    </tr>\n",
       "    <tr>\n",
       "      <th>4</th>\n",
       "      <td>4.419696</td>\n",
       "      <td>7.029675</td>\n",
       "      <td>5.210082</td>\n",
       "      <td>3.634725</td>\n",
       "      <td>-5.124854</td>\n",
       "      <td>-0.266185</td>\n",
       "      <td>8523118</td>\n",
       "    </tr>\n",
       "  </tbody>\n",
       "</table>\n",
       "</div>"
      ],
      "text/plain": [
       "     AccelX    AccelY    AccelZ     GyroX     GyroY     GyroZ  relative_time\n",
       "0  4.419696  7.029675  5.210082  3.634725 -5.124854 -0.266185              0\n",
       "1  4.419696  7.029675  5.210082  3.634725 -5.124854 -0.266185        2528035\n",
       "2  4.419696  7.029675  5.210082  3.634725 -5.124854 -0.266185        4522535\n",
       "3  4.419696  7.029675  5.210082  3.634725 -5.124854 -0.266185        6522868\n",
       "4  4.419696  7.029675  5.210082  3.634725 -5.124854 -0.266185        8523118"
      ]
     },
     "execution_count": 7,
     "metadata": {},
     "output_type": "execute_result"
    }
   ],
   "source": [
    "# Inspect the data again \n",
    "X.head()"
   ]
  },
  {
   "cell_type": "code",
   "execution_count": 8,
   "id": "9cd5a206",
   "metadata": {},
   "outputs": [
    {
     "data": {
      "text/plain": [
       "0    1\n",
       "1    1\n",
       "2    1\n",
       "3    1\n",
       "4    1\n",
       "Name: Person, dtype: int64"
      ]
     },
     "execution_count": 8,
     "metadata": {},
     "output_type": "execute_result"
    }
   ],
   "source": [
    "y.head()"
   ]
  },
  {
   "cell_type": "code",
   "execution_count": 8,
   "id": "c8aeef32",
   "metadata": {},
   "outputs": [],
   "source": [
    "# Split data into training and testing sets\n",
    "X_train, X_test, y_train, y_test = train_test_split(X, y, test_size=0.2, random_state=42)"
   ]
  },
  {
   "cell_type": "code",
   "execution_count": 9,
   "id": "44491309",
   "metadata": {},
   "outputs": [
    {
     "data": {
      "text/html": [
       "<style>#sk-container-id-1 {color: black;background-color: white;}#sk-container-id-1 pre{padding: 0;}#sk-container-id-1 div.sk-toggleable {background-color: white;}#sk-container-id-1 label.sk-toggleable__label {cursor: pointer;display: block;width: 100%;margin-bottom: 0;padding: 0.3em;box-sizing: border-box;text-align: center;}#sk-container-id-1 label.sk-toggleable__label-arrow:before {content: \"▸\";float: left;margin-right: 0.25em;color: #696969;}#sk-container-id-1 label.sk-toggleable__label-arrow:hover:before {color: black;}#sk-container-id-1 div.sk-estimator:hover label.sk-toggleable__label-arrow:before {color: black;}#sk-container-id-1 div.sk-toggleable__content {max-height: 0;max-width: 0;overflow: hidden;text-align: left;background-color: #f0f8ff;}#sk-container-id-1 div.sk-toggleable__content pre {margin: 0.2em;color: black;border-radius: 0.25em;background-color: #f0f8ff;}#sk-container-id-1 input.sk-toggleable__control:checked~div.sk-toggleable__content {max-height: 200px;max-width: 100%;overflow: auto;}#sk-container-id-1 input.sk-toggleable__control:checked~label.sk-toggleable__label-arrow:before {content: \"▾\";}#sk-container-id-1 div.sk-estimator input.sk-toggleable__control:checked~label.sk-toggleable__label {background-color: #d4ebff;}#sk-container-id-1 div.sk-label input.sk-toggleable__control:checked~label.sk-toggleable__label {background-color: #d4ebff;}#sk-container-id-1 input.sk-hidden--visually {border: 0;clip: rect(1px 1px 1px 1px);clip: rect(1px, 1px, 1px, 1px);height: 1px;margin: -1px;overflow: hidden;padding: 0;position: absolute;width: 1px;}#sk-container-id-1 div.sk-estimator {font-family: monospace;background-color: #f0f8ff;border: 1px dotted black;border-radius: 0.25em;box-sizing: border-box;margin-bottom: 0.5em;}#sk-container-id-1 div.sk-estimator:hover {background-color: #d4ebff;}#sk-container-id-1 div.sk-parallel-item::after {content: \"\";width: 100%;border-bottom: 1px solid gray;flex-grow: 1;}#sk-container-id-1 div.sk-label:hover label.sk-toggleable__label {background-color: #d4ebff;}#sk-container-id-1 div.sk-serial::before {content: \"\";position: absolute;border-left: 1px solid gray;box-sizing: border-box;top: 0;bottom: 0;left: 50%;z-index: 0;}#sk-container-id-1 div.sk-serial {display: flex;flex-direction: column;align-items: center;background-color: white;padding-right: 0.2em;padding-left: 0.2em;position: relative;}#sk-container-id-1 div.sk-item {position: relative;z-index: 1;}#sk-container-id-1 div.sk-parallel {display: flex;align-items: stretch;justify-content: center;background-color: white;position: relative;}#sk-container-id-1 div.sk-item::before, #sk-container-id-1 div.sk-parallel-item::before {content: \"\";position: absolute;border-left: 1px solid gray;box-sizing: border-box;top: 0;bottom: 0;left: 50%;z-index: -1;}#sk-container-id-1 div.sk-parallel-item {display: flex;flex-direction: column;z-index: 1;position: relative;background-color: white;}#sk-container-id-1 div.sk-parallel-item:first-child::after {align-self: flex-end;width: 50%;}#sk-container-id-1 div.sk-parallel-item:last-child::after {align-self: flex-start;width: 50%;}#sk-container-id-1 div.sk-parallel-item:only-child::after {width: 0;}#sk-container-id-1 div.sk-dashed-wrapped {border: 1px dashed gray;margin: 0 0.4em 0.5em 0.4em;box-sizing: border-box;padding-bottom: 0.4em;background-color: white;}#sk-container-id-1 div.sk-label label {font-family: monospace;font-weight: bold;display: inline-block;line-height: 1.2em;}#sk-container-id-1 div.sk-label-container {text-align: center;}#sk-container-id-1 div.sk-container {/* jupyter's `normalize.less` sets `[hidden] { display: none; }` but bootstrap.min.css set `[hidden] { display: none !important; }` so we also need the `!important` here to be able to override the default hidden behavior on the sphinx rendered scikit-learn.org. See: https://github.com/scikit-learn/scikit-learn/issues/21755 */display: inline-block !important;position: relative;}#sk-container-id-1 div.sk-text-repr-fallback {display: none;}</style><div id=\"sk-container-id-1\" class=\"sk-top-container\"><div class=\"sk-text-repr-fallback\"><pre>RandomForestClassifier(random_state=42)</pre><b>In a Jupyter environment, please rerun this cell to show the HTML representation or trust the notebook. <br />On GitHub, the HTML representation is unable to render, please try loading this page with nbviewer.org.</b></div><div class=\"sk-container\" hidden><div class=\"sk-item\"><div class=\"sk-estimator sk-toggleable\"><input class=\"sk-toggleable__control sk-hidden--visually\" id=\"sk-estimator-id-1\" type=\"checkbox\" checked><label for=\"sk-estimator-id-1\" class=\"sk-toggleable__label sk-toggleable__label-arrow\">RandomForestClassifier</label><div class=\"sk-toggleable__content\"><pre>RandomForestClassifier(random_state=42)</pre></div></div></div></div></div>"
      ],
      "text/plain": [
       "RandomForestClassifier(random_state=42)"
      ]
     },
     "execution_count": 9,
     "metadata": {},
     "output_type": "execute_result"
    }
   ],
   "source": [
    "# Initialize Random Forest Classifier\n",
    "clf = RandomForestClassifier(n_estimators=100, random_state=42)\n",
    "\n",
    "# Train the model\n",
    "clf.fit(X_train, y_train)"
   ]
  },
  {
   "cell_type": "code",
   "execution_count": 10,
   "id": "bad3108f",
   "metadata": {},
   "outputs": [
    {
     "name": "stdout",
     "output_type": "stream",
     "text": [
      "Accuracy: 0.9998041882729756\n",
      "Confusion Matrix:\n",
      " [[56635    14     0     0     1]\n",
      " [   28 56986     0     0     0]\n",
      " [    0     0 57568     3     3]\n",
      " [    0     0     0 57074     1]\n",
      " [    5     0     0     1 57670]]\n"
     ]
    }
   ],
   "source": [
    "# Predict on test data\n",
    "y_pred = clf.predict(X_test)\n",
    "\n",
    "# Calculate accuracy and confusion matrix\n",
    "accuracy = accuracy_score(y_test, y_pred)\n",
    "confusion_mat = confusion_matrix(y_test, y_pred)\n",
    "\n",
    "# Print accuracy and confusion matrix\n",
    "print(\"Accuracy:\", accuracy)\n",
    "print(\"Confusion Matrix:\\n\", confusion_mat)"
   ]
  },
  {
   "cell_type": "code",
   "execution_count": 24,
   "id": "e20e1d9b",
   "metadata": {},
   "outputs": [
    {
     "name": "stdout",
     "output_type": "stream",
     "text": [
      "3\n"
     ]
    }
   ],
   "source": [
    "# Read a CSV file into DataFrames\n",
    "def predict_new_reading(csv_file_path:str, clf:object)->int:\n",
    "    df = pd.read_csv(csv_file_path)\n",
    "    # Calculate the relative time difference for each row of reading \n",
    "    # compared to the 1st row of reading in each CSV file / reading \n",
    "    df['relative_time'] = df['Timestamp'].apply(lambda x: (x - df['Timestamp'][0]))\n",
    "    df = df.drop([\"Timestamp\"], axis=1)  # Drop \"Timestamp\" columns as features\n",
    "    result_list = clf.predict(df)\n",
    "    counts = np.bincount(result_list)\n",
    "    result = np.argmax(counts)\n",
    "    return result\n",
    "\n",
    "print(predict_new_reading(\"Gesture/3/1677689464170.csv\", clf))"
   ]
  },
  {
   "cell_type": "code",
   "execution_count": 20,
   "id": "2988ae1a",
   "metadata": {},
   "outputs": [],
   "source": [
    "# Save the trained model to a file\n",
    "filename = 'gesture_random_forest_classifier_model_relative_time.pkl'\n",
    "with open(filename, 'wb') as file:\n",
    "    pickle.dump(clf, file)"
   ]
  },
  {
   "cell_type": "code",
   "execution_count": 3,
   "id": "dadef433",
   "metadata": {},
   "outputs": [],
   "source": [
    "# Load the trained model from the file\n",
    "filename = 'gesture_random_forest_classifier_model_relative_time.pkl'\n",
    "with open(filename, 'rb') as file:\n",
    "    clf = pickle.load(file)"
   ]
  },
  {
   "cell_type": "markdown",
   "id": "06f7ffd0",
   "metadata": {},
   "source": [
    "## Unused funtion"
   ]
  },
  {
   "cell_type": "code",
   "execution_count": null,
   "id": "25c5235d",
   "metadata": {},
   "outputs": [],
   "source": [
    "def load_csv_to_df_knn(file_path_str):\n",
    "    X = []\n",
    "    y =[]\n",
    "    for label in range(1, 6):\n",
    "        folder_path = f\"{gesture_folder_path}/{label}\"\n",
    "        for file_name in os.listdir(folder_path):\n",
    "                if not file_name.startswith('.'): \n",
    "                    file_path = f\"{folder_path}/{file_name}\"\n",
    "                    df = pd.read_csv(file_path)\n",
    "                    X.append(df.drop(\"Timestamp\", axis=1))  # \"Timestamp\" is not a feature\n",
    "                    y.append(label)\n",
    "    return X, y"
   ]
  },
  {
   "cell_type": "code",
   "execution_count": null,
   "id": "961cec2f",
   "metadata": {},
   "outputs": [],
   "source": [
    "def load_csv_to_list(file_path_str):\n",
    "    X = []\n",
    "    y =[]\n",
    "    for label in range(1, 6):\n",
    "        folder_path = f\"{gesture_folder_path}/{label}\"\n",
    "        for file_name in os.listdir(folder_path):\n",
    "                if not file_name.startswith('.'): \n",
    "                    file_path = f\"{folder_path}/{file_name}\"\n",
    "                    df = pd.read_csv(file_path)\n",
    "                    X.append(df.drop([\"Timestamp\"], axis=1).values)  # \"Timestamp\" is not a feature\n",
    "                    y.append(label)\n",
    "    return X, y"
   ]
  }
 ],
 "metadata": {
  "kernelspec": {
   "display_name": "Python 3 (ipykernel)",
   "language": "python",
   "name": "python3"
  },
  "language_info": {
   "codemirror_mode": {
    "name": "ipython",
    "version": 3
   },
   "file_extension": ".py",
   "mimetype": "text/x-python",
   "name": "python",
   "nbconvert_exporter": "python",
   "pygments_lexer": "ipython3",
   "version": "3.9.12"
  }
 },
 "nbformat": 4,
 "nbformat_minor": 5
}
