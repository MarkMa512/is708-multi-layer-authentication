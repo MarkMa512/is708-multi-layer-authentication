{
 "cells": [
  {
   "cell_type": "markdown",
   "id": "c84ac6e7",
   "metadata": {},
   "source": [
    "# unified multi-modal recognition model"
   ]
  },
  {
   "cell_type": "code",
   "execution_count": null,
   "id": "35620b81",
   "metadata": {},
   "outputs": [],
   "source": [
    "# Import relevant libraries\n",
    "\n",
    "import numpy as np\n",
    "import pandas as pd\n",
    "import librosa\n",
    "import os\n",
    "from sklearn.model_selection import train_test_split\n",
    "from sklearn.neural_network import MLPClassifier\n",
    "from sklearn.metrics import accuracy_score"
   ]
  },
  {
   "cell_type": "code",
   "execution_count": null,
   "id": "a601d426",
   "metadata": {},
   "outputs": [],
   "source": [
    "# Load the data\n",
    "audio_folder = \"Audio/\"\n",
    "imu_folder = \"Gesture/\"\n",
    "\n",
    "X = []\n",
    "y = []\n",
    "\n",
    "for label in range(1, 6):\n",
    "    # Load the audio data and extract features\n",
    "    folder_path = f\"{audio_folder}/{label}\"\n",
    "    for file_name in os.listdir(folder_path):\n",
    "        # to ignore any DS_Store file \n",
    "        if not file_name.startswith('.'): \n",
    "            file_path = f\"{folder_path}/{file_name}\"\n",
    "            # Load audio clip\n",
    "            signal, sr = librosa.load(file_path, duration=3.0)  # Set duration to 3 seconds\n",
    "            # Extract MFCC features\n",
    "            mfcc = librosa.feature.mfcc(y=signal, sr=sr, n_mfcc=n_mfcc).T.flatten().tolist()\n",
    "            # Flatten the list\n",
    "            mfcc_flattened=mfcc.\n",
    "\n",
    "    # Load the IMU data and compute statistical features\n",
    "    imu_file = f\"{imu_folder}/{i}/{j}.csv\"\n",
    "    imu_data = pd.read_csv(imu_file)\n",
    "    imu_mean = imu_data.mean().values\n",
    "    imu_std = imu_data.std().values\n",
    "    imu_var = imu_data.var().values\n",
    "\n",
    "    # Concatenate the features\n",
    "    features = np.concatenate([mfcc, imu_mean, imu_std, imu_var])\n",
    "\n",
    "    # Add the features and labels to the dataset\n",
    "    X.append(features)\n",
    "    y.append(i)"
   ]
  },
  {
   "cell_type": "code",
   "execution_count": null,
   "id": "3fd7c405",
   "metadata": {},
   "outputs": [],
   "source": [
    "# Split the data into training and testing sets\n",
    "X_train, X_test, y_train, y_test = train_test_split(X, y, test_size=0.2, random_state=42)\n",
    "\n",
    "# Initialize and train the MLP classifier\n",
    "clf = MLPClassifier(hidden_layer_sizes=(100, 50), max_iter=500, alpha=0.0001,\n",
    "                    solver='adam', verbose=10,  random_state=42)\n",
    "clf.fit(X_train, y_train)\n",
    "\n",
    "# Make predictions on the testing data\n",
    "y_pred = clf.predict(X_test)\n",
    "\n",
    "# Evaluate the performance of the classifier using accuracy\n",
    "accuracy = accuracy_score(y_test, y_pred)\n",
    "print(\"Accuracy:\", accuracy)"
   ]
  }
 ],
 "metadata": {
  "kernelspec": {
   "display_name": "Python 3 (ipykernel)",
   "language": "python",
   "name": "python3"
  },
  "language_info": {
   "codemirror_mode": {
    "name": "ipython",
    "version": 3
   },
   "file_extension": ".py",
   "mimetype": "text/x-python",
   "name": "python",
   "nbconvert_exporter": "python",
   "pygments_lexer": "ipython3",
   "version": "3.9.12"
  }
 },
 "nbformat": 4,
 "nbformat_minor": 5
}
